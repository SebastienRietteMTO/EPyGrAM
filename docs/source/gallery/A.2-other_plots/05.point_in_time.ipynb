{
 "cells": [
  {
   "cell_type": "markdown",
   "metadata": {},
   "source": [
    "# Plot a Point evolution in time"
   ]
  },
  {
   "cell_type": "code",
   "execution_count": null,
   "metadata": {
    "execution": {
     "iopub.execute_input": "2025-01-08T16:26:47.490022Z",
     "iopub.status.busy": "2025-01-08T16:26:47.489495Z",
     "iopub.status.idle": "2025-01-08T16:26:48.020458Z",
     "shell.execute_reply": "2025-01-08T16:26:48.019949Z"
    }
   },
   "outputs": [],
   "source": [
    "%matplotlib inline\n",
    "# for figures in notebook\n",
    "\n",
    "# import & initialize epygram\n",
    "import epygram\n",
    "epygram.init_env()\n",
    "\n",
    "# path to file\n",
    "import os\n",
    "INPUTS_DIR = os.path.join('..', 'inputs')"
   ]
  },
  {
   "cell_type": "code",
   "execution_count": null,
   "metadata": {
    "execution": {
     "iopub.execute_input": "2025-01-08T16:26:48.022882Z",
     "iopub.status.busy": "2025-01-08T16:26:48.022634Z",
     "iopub.status.idle": "2025-01-08T16:26:48.348058Z",
     "shell.execute_reply": "2025-01-08T16:26:48.347680Z"
    }
   },
   "outputs": [],
   "source": [
    "paths = [os.path.join(INPUTS_DIR, 'grid.arome-forecast.guyane0025+00{:02}:00.grib'.format(i))\n",
    "         for i in (0, 12, 24)]\n",
    "r = epygram.resources.meta_resource(paths, 'r', 'MV')"
   ]
  },
  {
   "cell_type": "code",
   "execution_count": null,
   "metadata": {
    "execution": {
     "iopub.execute_input": "2025-01-08T16:26:48.350065Z",
     "iopub.status.busy": "2025-01-08T16:26:48.349891Z",
     "iopub.status.idle": "2025-01-08T16:26:48.985538Z",
     "shell.execute_reply": "2025-01-08T16:26:48.984929Z"
    }
   },
   "outputs": [],
   "source": [
    "f = r.readfield({'shortName':'t', 'typeOfFirstFixedSurface':100, 'level':850})  # temperature on pressure levels\n",
    "p = f.extract_point(-55,5)  # extract a Point"
   ]
  },
  {
   "cell_type": "code",
   "execution_count": null,
   "metadata": {
    "execution": {
     "iopub.execute_input": "2025-01-08T16:26:48.987719Z",
     "iopub.status.busy": "2025-01-08T16:26:48.987547Z",
     "iopub.status.idle": "2025-01-08T16:26:48.990587Z",
     "shell.execute_reply": "2025-01-08T16:26:48.990074Z"
    }
   },
   "outputs": [],
   "source": [
    "print(type(p))\n",
    "print(p.getdata(d4=True).shape)"
   ]
  },
  {
   "cell_type": "code",
   "execution_count": null,
   "metadata": {
    "execution": {
     "iopub.execute_input": "2025-01-08T16:26:48.992491Z",
     "iopub.status.busy": "2025-01-08T16:26:48.992277Z",
     "iopub.status.idle": "2025-01-08T16:26:49.165780Z",
     "shell.execute_reply": "2025-01-08T16:26:49.165101Z"
    }
   },
   "outputs": [],
   "source": [
    "fig, ax = p.plotfield(plot_kwargs={'label':'T @ 850hPa'}, figsize=(10,7), unit='K')"
   ]
  },
  {
   "cell_type": "code",
   "execution_count": null,
   "metadata": {},
   "outputs": [],
   "source": []
  }
 ],
 "metadata": {
  "kernelspec": {
   "display_name": "Python 3",
   "language": "python",
   "name": "python3"
  },
  "language_info": {
   "codemirror_mode": {
    "name": "ipython",
    "version": 3
   },
   "file_extension": ".py",
   "mimetype": "text/x-python",
   "name": "python",
   "nbconvert_exporter": "python",
   "pygments_lexer": "ipython3",
   "version": "3.10.12"
  }
 },
 "nbformat": 4,
 "nbformat_minor": 2
}
