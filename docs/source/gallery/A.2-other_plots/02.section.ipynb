{
 "cells": [
  {
   "cell_type": "markdown",
   "metadata": {},
   "source": [
    "# Plot a section"
   ]
  },
  {
   "cell_type": "code",
   "execution_count": null,
   "metadata": {
    "execution": {
     "iopub.execute_input": "2025-01-08T16:26:32.003365Z",
     "iopub.status.busy": "2025-01-08T16:26:32.002868Z",
     "iopub.status.idle": "2025-01-08T16:26:32.532136Z",
     "shell.execute_reply": "2025-01-08T16:26:32.531651Z"
    }
   },
   "outputs": [],
   "source": [
    "%matplotlib inline\n",
    "# for figures in notebook\n",
    "\n",
    "# import & initialize epygram\n",
    "import epygram\n",
    "epygram.init_env()\n",
    "\n",
    "# path to file\n",
    "import os\n",
    "INPUTS_DIR = os.path.join('..', 'inputs')"
   ]
  },
  {
   "cell_type": "code",
   "execution_count": null,
   "metadata": {
    "execution": {
     "iopub.execute_input": "2025-01-08T16:26:32.534223Z",
     "iopub.status.busy": "2025-01-08T16:26:32.533970Z",
     "iopub.status.idle": "2025-01-08T16:26:32.678240Z",
     "shell.execute_reply": "2025-01-08T16:26:32.677697Z"
    }
   },
   "outputs": [],
   "source": [
    "r = epygram.resources.meta_resource(os.path.join(INPUTS_DIR, 'ICMSHAROM+0022'),\n",
    "                                    'r', 'CL')"
   ]
  },
  {
   "cell_type": "code",
   "execution_count": null,
   "metadata": {
    "execution": {
     "iopub.execute_input": "2025-01-08T16:26:32.680713Z",
     "iopub.status.busy": "2025-01-08T16:26:32.680477Z",
     "iopub.status.idle": "2025-01-08T16:26:35.260146Z",
     "shell.execute_reply": "2025-01-08T16:26:35.259653Z"
    }
   },
   "outputs": [],
   "source": [
    "# CL implies GRIB2 nomenclature of fields\n",
    "f = r.readfield({'discipline':0, 'parameterCategory':0, 'parameterNumber':0,  # temperature\n",
    "                 'typeOfFirstFixedSurface':119})  # on model levels\n",
    "f.sp2gp()"
   ]
  },
  {
   "cell_type": "code",
   "execution_count": null,
   "metadata": {
    "execution": {
     "iopub.execute_input": "2025-01-08T16:26:35.262294Z",
     "iopub.status.busy": "2025-01-08T16:26:35.262084Z",
     "iopub.status.idle": "2025-01-08T16:26:35.284262Z",
     "shell.execute_reply": "2025-01-08T16:26:35.283925Z"
    }
   },
   "outputs": [],
   "source": [
    "s = f.extractsection((8,45), (8,46), interpolation='linear')"
   ]
  },
  {
   "cell_type": "code",
   "execution_count": null,
   "metadata": {
    "execution": {
     "iopub.execute_input": "2025-01-08T16:26:35.285944Z",
     "iopub.status.busy": "2025-01-08T16:26:35.285764Z",
     "iopub.status.idle": "2025-01-08T16:26:35.535972Z",
     "shell.execute_reply": "2025-01-08T16:26:35.535453Z"
    }
   },
   "outputs": [],
   "source": [
    "fig, ax = s.plotfield(title='Temperature on meridian 8°E', x_is='lat')"
   ]
  },
  {
   "cell_type": "code",
   "execution_count": null,
   "metadata": {},
   "outputs": [],
   "source": []
  }
 ],
 "metadata": {
  "kernelspec": {
   "display_name": "Python 3",
   "language": "python",
   "name": "python3"
  },
  "language_info": {
   "codemirror_mode": {
    "name": "ipython",
    "version": 3
   },
   "file_extension": ".py",
   "mimetype": "text/x-python",
   "name": "python",
   "nbconvert_exporter": "python",
   "pygments_lexer": "ipython3",
   "version": "3.10.12"
  }
 },
 "nbformat": 4,
 "nbformat_minor": 2
}
