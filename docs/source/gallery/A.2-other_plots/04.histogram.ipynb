{
 "cells": [
  {
   "cell_type": "markdown",
   "metadata": {},
   "source": [
    "# Histogram of field(s)"
   ]
  },
  {
   "cell_type": "code",
   "execution_count": null,
   "metadata": {
    "execution": {
     "iopub.execute_input": "2025-01-08T16:26:42.292896Z",
     "iopub.status.busy": "2025-01-08T16:26:42.292431Z",
     "iopub.status.idle": "2025-01-08T16:26:42.834333Z",
     "shell.execute_reply": "2025-01-08T16:26:42.833836Z"
    }
   },
   "outputs": [],
   "source": [
    "%matplotlib inline\n",
    "# for figures in notebook\n",
    "\n",
    "# import & initialize epygram\n",
    "import epygram\n",
    "epygram.init_env()\n",
    "\n",
    "import os\n",
    "INPUTS_DIR = os.path.join('..', 'inputs')"
   ]
  },
  {
   "cell_type": "code",
   "execution_count": null,
   "metadata": {
    "execution": {
     "iopub.execute_input": "2025-01-08T16:26:42.836489Z",
     "iopub.status.busy": "2025-01-08T16:26:42.836254Z",
     "iopub.status.idle": "2025-01-08T16:26:42.982174Z",
     "shell.execute_reply": "2025-01-08T16:26:42.981782Z"
    }
   },
   "outputs": [],
   "source": [
    "# open resource in read mode\n",
    "r = epygram.open(os.path.join(INPUTS_DIR, 'ICMSHAROM+0022'), 'r')"
   ]
  },
  {
   "cell_type": "code",
   "execution_count": null,
   "metadata": {
    "execution": {
     "iopub.execute_input": "2025-01-08T16:26:42.984265Z",
     "iopub.status.busy": "2025-01-08T16:26:42.984046Z",
     "iopub.status.idle": "2025-01-08T16:26:45.051929Z",
     "shell.execute_reply": "2025-01-08T16:26:45.051223Z"
    }
   },
   "outputs": [],
   "source": [
    "t90 = r.readfield('S090TEMPERATURE')\n",
    "t90.sp2gp()\n",
    "t2m = r.readfield('CLSTEMPERATURE')"
   ]
  },
  {
   "cell_type": "code",
   "execution_count": null,
   "metadata": {
    "execution": {
     "iopub.execute_input": "2025-01-08T16:26:45.054321Z",
     "iopub.status.busy": "2025-01-08T16:26:45.054069Z",
     "iopub.status.idle": "2025-01-08T16:26:45.301336Z",
     "shell.execute_reply": "2025-01-08T16:26:45.300828Z"
    }
   },
   "outputs": [],
   "source": [
    "fig, ax = t2m.histogram(subzone='CI', bins=50)"
   ]
  },
  {
   "cell_type": "code",
   "execution_count": null,
   "metadata": {
    "execution": {
     "iopub.execute_input": "2025-01-08T16:26:45.303320Z",
     "iopub.status.busy": "2025-01-08T16:26:45.303089Z",
     "iopub.status.idle": "2025-01-08T16:26:45.569308Z",
     "shell.execute_reply": "2025-01-08T16:26:45.568813Z"
    }
   },
   "outputs": [],
   "source": [
    "fig, ax = t2m.histogram(subzone='CI', bins=50, together_with=t90)"
   ]
  },
  {
   "cell_type": "code",
   "execution_count": null,
   "metadata": {},
   "outputs": [],
   "source": []
  }
 ],
 "metadata": {
  "kernelspec": {
   "display_name": "Python 3",
   "language": "python",
   "name": "python3"
  },
  "language_info": {
   "codemirror_mode": {
    "name": "ipython",
    "version": 3
   },
   "file_extension": ".py",
   "mimetype": "text/x-python",
   "name": "python",
   "nbconvert_exporter": "python",
   "pygments_lexer": "ipython3",
   "version": "3.10.12"
  }
 },
 "nbformat": 4,
 "nbformat_minor": 2
}
