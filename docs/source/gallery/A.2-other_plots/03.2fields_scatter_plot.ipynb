{
 "cells": [
  {
   "cell_type": "markdown",
   "metadata": {},
   "source": [
    "# Comparison of 2 fields through a scatter-plot"
   ]
  },
  {
   "cell_type": "code",
   "execution_count": null,
   "metadata": {
    "execution": {
     "iopub.execute_input": "2025-01-08T16:26:37.420135Z",
     "iopub.status.busy": "2025-01-08T16:26:37.419660Z",
     "iopub.status.idle": "2025-01-08T16:26:37.949555Z",
     "shell.execute_reply": "2025-01-08T16:26:37.949057Z"
    }
   },
   "outputs": [],
   "source": [
    "%matplotlib inline\n",
    "# for figures in notebook\n",
    "\n",
    "# import & initialize epygram\n",
    "import epygram\n",
    "epygram.init_env()\n",
    "\n",
    "import os\n",
    "INPUTS_DIR = os.path.join('..', 'inputs')"
   ]
  },
  {
   "cell_type": "code",
   "execution_count": null,
   "metadata": {
    "execution": {
     "iopub.execute_input": "2025-01-08T16:26:37.951823Z",
     "iopub.status.busy": "2025-01-08T16:26:37.951603Z",
     "iopub.status.idle": "2025-01-08T16:26:38.099529Z",
     "shell.execute_reply": "2025-01-08T16:26:38.098999Z"
    }
   },
   "outputs": [],
   "source": [
    "# open resource in read mode\n",
    "r = epygram.open(os.path.join(INPUTS_DIR, 'ICMSHAROM+0022'), 'r')"
   ]
  },
  {
   "cell_type": "code",
   "execution_count": null,
   "metadata": {
    "execution": {
     "iopub.execute_input": "2025-01-08T16:26:38.101653Z",
     "iopub.status.busy": "2025-01-08T16:26:38.101443Z",
     "iopub.status.idle": "2025-01-08T16:26:40.161475Z",
     "shell.execute_reply": "2025-01-08T16:26:40.160923Z"
    }
   },
   "outputs": [],
   "source": [
    "t90 = r.readfield('S090TEMPERATURE')\n",
    "t90.sp2gp()\n",
    "t2m = r.readfield('CLSTEMPERATURE')"
   ]
  },
  {
   "cell_type": "code",
   "execution_count": null,
   "metadata": {
    "execution": {
     "iopub.execute_input": "2025-01-08T16:26:40.163667Z",
     "iopub.status.busy": "2025-01-08T16:26:40.163452Z",
     "iopub.status.idle": "2025-01-08T16:26:40.400734Z",
     "shell.execute_reply": "2025-01-08T16:26:40.400325Z"
    }
   },
   "outputs": [],
   "source": [
    "fig, ax = t2m.scatter_with(t90, figsize=(8,8), subzone='CI', fidkey='FA')"
   ]
  },
  {
   "cell_type": "code",
   "execution_count": null,
   "metadata": {},
   "outputs": [],
   "source": []
  }
 ],
 "metadata": {
  "kernelspec": {
   "display_name": "Python 3",
   "language": "python",
   "name": "python3"
  },
  "language_info": {
   "codemirror_mode": {
    "name": "ipython",
    "version": 3
   },
   "file_extension": ".py",
   "mimetype": "text/x-python",
   "name": "python",
   "nbconvert_exporter": "python",
   "pygments_lexer": "ipython3",
   "version": "3.10.12"
  }
 },
 "nbformat": 4,
 "nbformat_minor": 2
}
