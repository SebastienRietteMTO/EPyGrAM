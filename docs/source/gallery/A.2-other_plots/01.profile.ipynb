{
 "cells": [
  {
   "cell_type": "markdown",
   "metadata": {},
   "source": [
    "# Plot profile(s)"
   ]
  },
  {
   "cell_type": "code",
   "execution_count": null,
   "metadata": {
    "execution": {
     "iopub.execute_input": "2025-01-08T16:26:02.878233Z",
     "iopub.status.busy": "2025-01-08T16:26:02.877739Z",
     "iopub.status.idle": "2025-01-08T16:26:03.406556Z",
     "shell.execute_reply": "2025-01-08T16:26:03.406071Z"
    }
   },
   "outputs": [],
   "source": [
    "%matplotlib inline\n",
    "# for figures in notebook\n",
    "\n",
    "# import & initialize epygram\n",
    "import epygram\n",
    "epygram.init_env()\n",
    "\n",
    "# path to file\n",
    "import os\n",
    "INPUTS_DIR = os.path.join('..', 'inputs')"
   ]
  },
  {
   "cell_type": "code",
   "execution_count": null,
   "metadata": {
    "execution": {
     "iopub.execute_input": "2025-01-08T16:26:03.408796Z",
     "iopub.status.busy": "2025-01-08T16:26:03.408563Z",
     "iopub.status.idle": "2025-01-08T16:26:03.738138Z",
     "shell.execute_reply": "2025-01-08T16:26:03.737755Z"
    }
   },
   "outputs": [],
   "source": [
    "paths = [os.path.join(INPUTS_DIR, 'grid.arome-forecast.guyane0025+00{:02}:00.grib'.format(i))\n",
    "         for i in (0, 12, 24)]\n",
    "r = epygram.resources.meta_resource(paths, 'r', 'CL+MV')"
   ]
  },
  {
   "cell_type": "code",
   "execution_count": null,
   "metadata": {
    "execution": {
     "iopub.execute_input": "2025-01-08T16:26:03.740044Z",
     "iopub.status.busy": "2025-01-08T16:26:03.739857Z",
     "iopub.status.idle": "2025-01-08T16:26:29.478542Z",
     "shell.execute_reply": "2025-01-08T16:26:29.478037Z"
    }
   },
   "outputs": [],
   "source": [
    "f = r.readfield({'shortName':'t', 'typeOfFirstFixedSurface':100})  # temperature on pressure levels\n",
    "p = f.extractprofile(-55,5)  # extract a profile"
   ]
  },
  {
   "cell_type": "code",
   "execution_count": null,
   "metadata": {
    "execution": {
     "iopub.execute_input": "2025-01-08T16:26:29.480695Z",
     "iopub.status.busy": "2025-01-08T16:26:29.480465Z",
     "iopub.status.idle": "2025-01-08T16:26:29.483209Z",
     "shell.execute_reply": "2025-01-08T16:26:29.482848Z"
    }
   },
   "outputs": [],
   "source": [
    "print(type(p))\n",
    "print(p.getdata(d4=True).shape)"
   ]
  },
  {
   "cell_type": "code",
   "execution_count": null,
   "metadata": {
    "execution": {
     "iopub.execute_input": "2025-01-08T16:26:29.484875Z",
     "iopub.status.busy": "2025-01-08T16:26:29.484588Z",
     "iopub.status.idle": "2025-01-08T16:26:29.728260Z",
     "shell.execute_reply": "2025-01-08T16:26:29.727803Z"
    }
   },
   "outputs": [],
   "source": [
    "fig, ax = p.plotfield(title='Vertical profile evolution')"
   ]
  },
  {
   "cell_type": "code",
   "execution_count": null,
   "metadata": {
    "execution": {
     "iopub.execute_input": "2025-01-08T16:26:29.730211Z",
     "iopub.status.busy": "2025-01-08T16:26:29.730012Z",
     "iopub.status.idle": "2025-01-08T16:26:29.732765Z",
     "shell.execute_reply": "2025-01-08T16:26:29.732393Z"
    }
   },
   "outputs": [],
   "source": [
    "p0 = p.getvalidity(0)"
   ]
  },
  {
   "cell_type": "code",
   "execution_count": null,
   "metadata": {
    "execution": {
     "iopub.execute_input": "2025-01-08T16:26:29.734576Z",
     "iopub.status.busy": "2025-01-08T16:26:29.734394Z",
     "iopub.status.idle": "2025-01-08T16:26:30.066540Z",
     "shell.execute_reply": "2025-01-08T16:26:30.066082Z"
    }
   },
   "outputs": [],
   "source": [
    "fig, ax = p0.plotfield(labels=['temperature'], unit='K')"
   ]
  },
  {
   "cell_type": "code",
   "execution_count": null,
   "metadata": {
    "execution": {
     "iopub.execute_input": "2025-01-08T16:26:30.068349Z",
     "iopub.status.busy": "2025-01-08T16:26:30.068151Z",
     "iopub.status.idle": "2025-01-08T16:26:30.207939Z",
     "shell.execute_reply": "2025-01-08T16:26:30.207351Z"
    }
   },
   "outputs": [],
   "source": [
    "profiles = [p.getvalidity(i) for i in range(len(p.validity))]\n",
    "fig, ax = epygram.fields.V1DField.plotprofiles(profiles,\n",
    "                                               labels=[pp.validity.get() for pp in profiles],\n",
    "                                               unit='K')"
   ]
  },
  {
   "cell_type": "code",
   "execution_count": null,
   "metadata": {},
   "outputs": [],
   "source": []
  }
 ],
 "metadata": {
  "kernelspec": {
   "display_name": "Python 3",
   "language": "python",
   "name": "python3"
  },
  "language_info": {
   "codemirror_mode": {
    "name": "ipython",
    "version": 3
   },
   "file_extension": ".py",
   "mimetype": "text/x-python",
   "name": "python",
   "nbconvert_exporter": "python",
   "pygments_lexer": "ipython3",
   "version": "3.10.12"
  }
 },
 "nbformat": 4,
 "nbformat_minor": 2
}
