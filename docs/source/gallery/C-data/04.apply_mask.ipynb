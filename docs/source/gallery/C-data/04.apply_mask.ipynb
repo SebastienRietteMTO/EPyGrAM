{
 "cells": [
  {
   "cell_type": "markdown",
   "metadata": {},
   "source": [
    "# Apply a mask using another field\n",
    "\n",
    "in this case, use the land-sea mask field to mask non-land values"
   ]
  },
  {
   "cell_type": "code",
   "execution_count": null,
   "metadata": {
    "execution": {
     "iopub.execute_input": "2025-01-08T16:28:55.052076Z",
     "iopub.status.busy": "2025-01-08T16:28:55.051585Z",
     "iopub.status.idle": "2025-01-08T16:28:55.575732Z",
     "shell.execute_reply": "2025-01-08T16:28:55.575323Z"
    }
   },
   "outputs": [],
   "source": [
    "%matplotlib inline\n",
    "# for figures in notebook\n",
    "\n",
    "# import & initialize epygram\n",
    "import epygram\n",
    "epygram.init_env()\n",
    "\n",
    "import os\n",
    "INPUTS_DIR = os.path.join('..', 'inputs')"
   ]
  },
  {
   "cell_type": "code",
   "execution_count": null,
   "metadata": {
    "execution": {
     "iopub.execute_input": "2025-01-08T16:28:55.577932Z",
     "iopub.status.busy": "2025-01-08T16:28:55.577717Z",
     "iopub.status.idle": "2025-01-08T16:28:55.718082Z",
     "shell.execute_reply": "2025-01-08T16:28:55.717634Z"
    }
   },
   "outputs": [],
   "source": [
    "r = epygram.open(os.path.join(INPUTS_DIR, 'ICMSHAROM+0022'), 'r')"
   ]
  },
  {
   "cell_type": "code",
   "execution_count": null,
   "metadata": {
    "execution": {
     "iopub.execute_input": "2025-01-08T16:28:55.720051Z",
     "iopub.status.busy": "2025-01-08T16:28:55.719858Z",
     "iopub.status.idle": "2025-01-08T16:28:55.776106Z",
     "shell.execute_reply": "2025-01-08T16:28:55.775666Z"
    }
   },
   "outputs": [],
   "source": [
    "f = r.readfield('SURFTEMPERATURE')"
   ]
  },
  {
   "cell_type": "code",
   "execution_count": null,
   "metadata": {
    "execution": {
     "iopub.execute_input": "2025-01-08T16:28:55.777850Z",
     "iopub.status.busy": "2025-01-08T16:28:55.777695Z",
     "iopub.status.idle": "2025-01-08T16:28:56.307304Z",
     "shell.execute_reply": "2025-01-08T16:28:56.306884Z"
    }
   },
   "outputs": [],
   "source": [
    "fig, ax = f.cartoplot(subzone='CI')"
   ]
  },
  {
   "cell_type": "code",
   "execution_count": null,
   "metadata": {
    "execution": {
     "iopub.execute_input": "2025-01-08T16:28:56.310053Z",
     "iopub.status.busy": "2025-01-08T16:28:56.309912Z",
     "iopub.status.idle": "2025-01-08T16:28:56.313323Z",
     "shell.execute_reply": "2025-01-08T16:28:56.313004Z"
    }
   },
   "outputs": [],
   "source": [
    "lsm = r.readfield('SURFIND.TERREMER')"
   ]
  },
  {
   "cell_type": "code",
   "execution_count": null,
   "metadata": {
    "execution": {
     "iopub.execute_input": "2025-01-08T16:28:56.314866Z",
     "iopub.status.busy": "2025-01-08T16:28:56.314719Z",
     "iopub.status.idle": "2025-01-08T16:28:56.613230Z",
     "shell.execute_reply": "2025-01-08T16:28:56.612702Z"
    }
   },
   "outputs": [],
   "source": [
    "fig, ax = lsm.cartoplot(subzone='CI')"
   ]
  },
  {
   "cell_type": "code",
   "execution_count": null,
   "metadata": {
    "execution": {
     "iopub.execute_input": "2025-01-08T16:28:56.615287Z",
     "iopub.status.busy": "2025-01-08T16:28:56.615072Z",
     "iopub.status.idle": "2025-01-08T16:28:56.618513Z",
     "shell.execute_reply": "2025-01-08T16:28:56.618019Z"
    }
   },
   "outputs": [],
   "source": [
    "import numpy\n",
    "masked_data = numpy.ma.masked_where(lsm.getdata() < 0.5, f.getdata())\n",
    "f.setdata(masked_data)"
   ]
  },
  {
   "cell_type": "code",
   "execution_count": null,
   "metadata": {
    "execution": {
     "iopub.execute_input": "2025-01-08T16:28:56.620383Z",
     "iopub.status.busy": "2025-01-08T16:28:56.620196Z",
     "iopub.status.idle": "2025-01-08T16:28:56.938565Z",
     "shell.execute_reply": "2025-01-08T16:28:56.938093Z"
    }
   },
   "outputs": [],
   "source": [
    "f.cartoplot(subzone='CI')"
   ]
  },
  {
   "cell_type": "code",
   "execution_count": null,
   "metadata": {},
   "outputs": [],
   "source": []
  }
 ],
 "metadata": {
  "kernelspec": {
   "display_name": "Python 3",
   "language": "python",
   "name": "python3"
  },
  "language_info": {
   "codemirror_mode": {
    "name": "ipython",
    "version": 3
   },
   "file_extension": ".py",
   "mimetype": "text/x-python",
   "name": "python",
   "nbconvert_exporter": "python",
   "pygments_lexer": "ipython3",
   "version": "3.10.12"
  }
 },
 "nbformat": 4,
 "nbformat_minor": 1
}
