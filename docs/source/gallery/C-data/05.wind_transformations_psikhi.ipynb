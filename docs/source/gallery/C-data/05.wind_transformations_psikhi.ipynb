{
 "cells": [
  {
   "cell_type": "markdown",
   "metadata": {},
   "source": [
    "# Recompute u/v from psi/khi (Arpege)"
   ]
  },
  {
   "cell_type": "code",
   "execution_count": null,
   "metadata": {
    "execution": {
     "iopub.execute_input": "2025-01-08T16:28:58.740126Z",
     "iopub.status.busy": "2025-01-08T16:28:58.739520Z",
     "iopub.status.idle": "2025-01-08T16:28:59.260641Z",
     "shell.execute_reply": "2025-01-08T16:28:59.260149Z"
    }
   },
   "outputs": [],
   "source": [
    "# for figures in notebook\n",
    "%matplotlib inline\n",
    "\n",
    "# import & initialize epygram\n",
    "import epygram\n",
    "epygram.init_env()"
   ]
  },
  {
   "cell_type": "code",
   "execution_count": null,
   "metadata": {
    "execution": {
     "iopub.execute_input": "2025-01-08T16:28:59.262924Z",
     "iopub.status.busy": "2025-01-08T16:28:59.262685Z",
     "iopub.status.idle": "2025-01-08T16:28:59.401277Z",
     "shell.execute_reply": "2025-01-08T16:28:59.400876Z"
    }
   },
   "outputs": [],
   "source": [
    "import os\n",
    "INPUTS_DIR = os.path.join('..', 'inputs')\n",
    "# open resource in read mode\n",
    "r = epygram.open(os.path.join(INPUTS_DIR, 'analysis.full-arpege.tl149-c24.fa'), 'r')"
   ]
  },
  {
   "cell_type": "code",
   "execution_count": null,
   "metadata": {
    "execution": {
     "iopub.execute_input": "2025-01-08T16:28:59.403381Z",
     "iopub.status.busy": "2025-01-08T16:28:59.403189Z",
     "iopub.status.idle": "2025-01-08T16:28:59.526958Z",
     "shell.execute_reply": "2025-01-08T16:28:59.526361Z"
    }
   },
   "outputs": [],
   "source": [
    "psi = r.readfield('S050FONC.COURANT')\n",
    "khi = r.readfield('S050POT.VITESSE')\n",
    "# re-compute u/v from psi/khi\n",
    "uv = epygram.fields.psikhi2uv(psi, khi)"
   ]
  },
  {
   "cell_type": "code",
   "execution_count": null,
   "metadata": {
    "execution": {
     "iopub.execute_input": "2025-01-08T16:28:59.529038Z",
     "iopub.status.busy": "2025-01-08T16:28:59.528843Z",
     "iopub.status.idle": "2025-01-08T16:29:00.708368Z",
     "shell.execute_reply": "2025-01-08T16:29:00.707963Z"
    }
   },
   "outputs": [],
   "source": [
    "fig, ax = uv.cartoplot(subsampling=5, vector_plot_method='quiver',\n",
    "                       components_are_projected_on='grid')"
   ]
  },
  {
   "cell_type": "markdown",
   "metadata": {},
   "source": [
    "# Be careful to projections of wind components !"
   ]
  },
  {
   "cell_type": "code",
   "execution_count": null,
   "metadata": {
    "execution": {
     "iopub.execute_input": "2025-01-08T16:29:00.713461Z",
     "iopub.status.busy": "2025-01-08T16:29:00.713250Z",
     "iopub.status.idle": "2025-01-08T16:29:01.480505Z",
     "shell.execute_reply": "2025-01-08T16:29:01.480004Z"
    }
   },
   "outputs": [],
   "source": [
    "# wrong projection:\n",
    "fig, ax = uv.cartoplot(subsampling=5, vector_plot_method='quiver',\n",
    "                       components_are_projected_on='lonlat')"
   ]
  },
  {
   "cell_type": "markdown",
   "metadata": {},
   "source": [
    "#  and stretched grids !"
   ]
  },
  {
   "cell_type": "code",
   "execution_count": null,
   "metadata": {
    "execution": {
     "iopub.execute_input": "2025-01-08T16:29:01.486043Z",
     "iopub.status.busy": "2025-01-08T16:29:01.485829Z",
     "iopub.status.idle": "2025-01-08T16:29:02.183574Z",
     "shell.execute_reply": "2025-01-08T16:29:02.183065Z"
    }
   },
   "outputs": [],
   "source": [
    "# map factor due to stretching:\n",
    "fig, ax = uv.cartoplot(subsampling=5, vector_plot_method='quiver',\n",
    "                       components_are_projected_on='grid',\n",
    "                       map_factor_correction=False)"
   ]
  },
  {
   "cell_type": "code",
   "execution_count": null,
   "metadata": {},
   "outputs": [],
   "source": []
  }
 ],
 "metadata": {
  "kernelspec": {
   "display_name": "Python 3",
   "language": "python",
   "name": "python3"
  },
  "language_info": {
   "codemirror_mode": {
    "name": "ipython",
    "version": 3
   },
   "file_extension": ".py",
   "mimetype": "text/x-python",
   "name": "python",
   "nbconvert_exporter": "python",
   "pygments_lexer": "ipython3",
   "version": "3.10.12"
  }
 },
 "nbformat": 4,
 "nbformat_minor": 2
}
