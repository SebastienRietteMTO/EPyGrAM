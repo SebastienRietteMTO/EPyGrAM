{
 "cells": [
  {
   "cell_type": "markdown",
   "metadata": {},
   "source": [
    "# Decumulate rain fields\n",
    "\n",
    "and write it back to GRIB, ensuring proper validity"
   ]
  },
  {
   "cell_type": "code",
   "execution_count": null,
   "metadata": {
    "execution": {
     "iopub.execute_input": "2025-01-08T16:28:40.029843Z",
     "iopub.status.busy": "2025-01-08T16:28:40.029246Z",
     "iopub.status.idle": "2025-01-08T16:28:40.550129Z",
     "shell.execute_reply": "2025-01-08T16:28:40.549639Z"
    }
   },
   "outputs": [],
   "source": [
    "%matplotlib inline\n",
    "# for figures in notebook\n",
    "\n",
    "# import & initialize epygram\n",
    "import epygram\n",
    "epygram.init_env()\n",
    "\n",
    "import os\n",
    "INPUTS_DIR = os.path.join('..', 'inputs')\n",
    "OUTPUTS_DIR = os.path.join('..', 'outputs')"
   ]
  },
  {
   "cell_type": "code",
   "execution_count": null,
   "metadata": {
    "execution": {
     "iopub.execute_input": "2025-01-08T16:28:40.552397Z",
     "iopub.status.busy": "2025-01-08T16:28:40.552148Z",
     "iopub.status.idle": "2025-01-08T16:28:40.874267Z",
     "shell.execute_reply": "2025-01-08T16:28:40.873696Z"
    }
   },
   "outputs": [],
   "source": [
    "paths = [os.path.join(INPUTS_DIR, 'grid.arome-forecast.guyane0025+00{:02}:00.grib'.format(i))\n",
    "         for i in (0, 12, 24)]\n",
    "resources = [epygram.open(p, 'r') for p in paths]"
   ]
  },
  {
   "cell_type": "code",
   "execution_count": null,
   "metadata": {
    "execution": {
     "iopub.execute_input": "2025-01-08T16:28:40.876639Z",
     "iopub.status.busy": "2025-01-08T16:28:40.876417Z",
     "iopub.status.idle": "2025-01-08T16:28:41.206702Z",
     "shell.execute_reply": "2025-01-08T16:28:41.206190Z"
    }
   },
   "outputs": [],
   "source": [
    "rain = [r.readfield({'discipline':0, 'parameterCategory':1, 'parameterNumber':65})\n",
    "        for r in resources[1:]]  # start from 1: term 0, no rain"
   ]
  },
  {
   "cell_type": "code",
   "execution_count": null,
   "metadata": {
    "execution": {
     "iopub.execute_input": "2025-01-08T16:28:41.209024Z",
     "iopub.status.busy": "2025-01-08T16:28:41.208801Z",
     "iopub.status.idle": "2025-01-08T16:28:41.212372Z",
     "shell.execute_reply": "2025-01-08T16:28:41.212016Z"
    }
   },
   "outputs": [],
   "source": [
    "# rain is accumulated from beginning of forecast\n",
    "print([r.mean() for r in rain])"
   ]
  },
  {
   "cell_type": "code",
   "execution_count": null,
   "metadata": {
    "execution": {
     "iopub.execute_input": "2025-01-08T16:28:41.214239Z",
     "iopub.status.busy": "2025-01-08T16:28:41.214038Z",
     "iopub.status.idle": "2025-01-08T16:28:41.216930Z",
     "shell.execute_reply": "2025-01-08T16:28:41.216544Z"
    }
   },
   "outputs": [],
   "source": [
    "for i in range(len(rain)):\n",
    "    if i == 0: continue  # term 1, no decumulation to do\n",
    "    rain[i].operation('-', rain[i-1])\n",
    "    rain[i].validity[0].set(cumulativeduration=(rain[i].validity[0].get()-rain[i-1].validity[0].get()))"
   ]
  },
  {
   "cell_type": "code",
   "execution_count": null,
   "metadata": {
    "execution": {
     "iopub.execute_input": "2025-01-08T16:28:41.218644Z",
     "iopub.status.busy": "2025-01-08T16:28:41.218465Z",
     "iopub.status.idle": "2025-01-08T16:28:41.221437Z",
     "shell.execute_reply": "2025-01-08T16:28:41.221070Z"
    }
   },
   "outputs": [],
   "source": [
    "print([r.mean() for r in rain])"
   ]
  },
  {
   "cell_type": "code",
   "execution_count": null,
   "metadata": {
    "execution": {
     "iopub.execute_input": "2025-01-08T16:28:41.223198Z",
     "iopub.status.busy": "2025-01-08T16:28:41.223027Z",
     "iopub.status.idle": "2025-01-08T16:28:41.285002Z",
     "shell.execute_reply": "2025-01-08T16:28:41.284337Z"
    }
   },
   "outputs": [],
   "source": [
    "rain_series = epygram.open(os.path.join(OUTPUTS_DIR,'rain_series.grib'), 'w', fmt='GRIB')\n",
    "for r in rain:\n",
    "    print(r.validity[0])\n",
    "    rain_series.writefield(r)\n",
    "rain_series.close()"
   ]
  },
  {
   "cell_type": "code",
   "execution_count": null,
   "metadata": {},
   "outputs": [],
   "source": []
  }
 ],
 "metadata": {
  "kernelspec": {
   "display_name": "Python 3",
   "language": "python",
   "name": "python3"
  },
  "language_info": {
   "codemirror_mode": {
    "name": "ipython",
    "version": 3
   },
   "file_extension": ".py",
   "mimetype": "text/x-python",
   "name": "python",
   "nbconvert_exporter": "python",
   "pygments_lexer": "ipython3",
   "version": "3.10.12"
  }
 },
 "nbformat": 4,
 "nbformat_minor": 1
}
