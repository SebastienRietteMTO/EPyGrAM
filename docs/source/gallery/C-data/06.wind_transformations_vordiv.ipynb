{
 "cells": [
  {
   "cell_type": "markdown",
   "metadata": {},
   "source": [
    "# Compute vor/div from u/v"
   ]
  },
  {
   "cell_type": "code",
   "execution_count": null,
   "metadata": {
    "execution": {
     "iopub.execute_input": "2025-01-08T16:29:04.006356Z",
     "iopub.status.busy": "2025-01-08T16:29:04.005887Z",
     "iopub.status.idle": "2025-01-08T16:29:04.521127Z",
     "shell.execute_reply": "2025-01-08T16:29:04.520632Z"
    }
   },
   "outputs": [],
   "source": [
    "# for figures in notebook\n",
    "%matplotlib inline\n",
    "\n",
    "# import & initialize epygram\n",
    "import epygram\n",
    "epygram.init_env()"
   ]
  },
  {
   "cell_type": "code",
   "execution_count": null,
   "metadata": {
    "execution": {
     "iopub.execute_input": "2025-01-08T16:29:04.523287Z",
     "iopub.status.busy": "2025-01-08T16:29:04.523081Z",
     "iopub.status.idle": "2025-01-08T16:29:04.665170Z",
     "shell.execute_reply": "2025-01-08T16:29:04.664778Z"
    }
   },
   "outputs": [],
   "source": [
    "import os\n",
    "INPUTS_DIR = os.path.join('..', 'inputs')\n",
    "# open resource in read mode\n",
    "r = epygram.open(os.path.join(INPUTS_DIR, 'ICMSHAROM+0022'), 'r')"
   ]
  },
  {
   "cell_type": "code",
   "execution_count": null,
   "metadata": {
    "execution": {
     "iopub.execute_input": "2025-01-08T16:29:04.667196Z",
     "iopub.status.busy": "2025-01-08T16:29:04.667027Z",
     "iopub.status.idle": "2025-01-08T16:29:06.724276Z",
     "shell.execute_reply": "2025-01-08T16:29:06.723658Z"
    }
   },
   "outputs": [],
   "source": [
    "u = r.readfield('S080WIND.U.PHYS')\n",
    "v = r.readfield('S080WIND.V.PHYS')\n",
    "# re-compute u/v from psi/khi\n",
    "uv = epygram.fields.make_vector_field(u, v)\n",
    "spgeom = u.spectral_geometry\n",
    "uv.sp2gp()"
   ]
  },
  {
   "cell_type": "code",
   "execution_count": null,
   "metadata": {
    "execution": {
     "iopub.execute_input": "2025-01-08T16:29:06.726357Z",
     "iopub.status.busy": "2025-01-08T16:29:06.726148Z",
     "iopub.status.idle": "2025-01-08T16:29:07.453396Z",
     "shell.execute_reply": "2025-01-08T16:29:07.452975Z"
    }
   },
   "outputs": [],
   "source": [
    "fig, ax = uv.cartoplot(subsampling=5, vector_plot_method='quiver',\n",
    "                       components_are_projected_on='grid')"
   ]
  },
  {
   "cell_type": "code",
   "execution_count": null,
   "metadata": {
    "execution": {
     "iopub.execute_input": "2025-01-08T16:29:07.458974Z",
     "iopub.status.busy": "2025-01-08T16:29:07.458826Z",
     "iopub.status.idle": "2025-01-08T16:29:07.475188Z",
     "shell.execute_reply": "2025-01-08T16:29:07.474758Z"
    }
   },
   "outputs": [],
   "source": [
    "# fields need to be spectral to compute vor/div : spectral derivatives are used\n",
    "uv.gp2sp(spgeom)\n",
    "vor, div = uv.compute_vordiv()"
   ]
  },
  {
   "cell_type": "code",
   "execution_count": null,
   "metadata": {
    "execution": {
     "iopub.execute_input": "2025-01-08T16:29:07.476974Z",
     "iopub.status.busy": "2025-01-08T16:29:07.476819Z",
     "iopub.status.idle": "2025-01-08T16:29:08.115421Z",
     "shell.execute_reply": "2025-01-08T16:29:08.115025Z"
    }
   },
   "outputs": [],
   "source": [
    "# map factor due to stretching:\n",
    "fig, ax = vor.cartoplot()\n",
    "fig, ax = div.cartoplot()"
   ]
  },
  {
   "cell_type": "code",
   "execution_count": null,
   "metadata": {},
   "outputs": [],
   "source": []
  }
 ],
 "metadata": {
  "kernelspec": {
   "display_name": "Python 3",
   "language": "python",
   "name": "python3"
  },
  "language_info": {
   "codemirror_mode": {
    "name": "ipython",
    "version": 3
   },
   "file_extension": ".py",
   "mimetype": "text/x-python",
   "name": "python",
   "nbconvert_exporter": "python",
   "pygments_lexer": "ipython3",
   "version": "3.10.12"
  }
 },
 "nbformat": 4,
 "nbformat_minor": 2
}
