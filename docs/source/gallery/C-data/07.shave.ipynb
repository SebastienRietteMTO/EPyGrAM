{
 "cells": [
  {
   "cell_type": "markdown",
   "metadata": {},
   "source": [
    "# Shaving: cut values over a threshold down to this threshold\n",
    "(resp. below a threshold up to)"
   ]
  },
  {
   "cell_type": "code",
   "execution_count": null,
   "metadata": {
    "execution": {
     "iopub.execute_input": "2025-01-08T16:29:10.038069Z",
     "iopub.status.busy": "2025-01-08T16:29:10.037583Z",
     "iopub.status.idle": "2025-01-08T16:29:10.563165Z",
     "shell.execute_reply": "2025-01-08T16:29:10.562686Z"
    }
   },
   "outputs": [],
   "source": [
    "%matplotlib inline\n",
    "# for figures in notebook\n",
    "\n",
    "# import & initialize epygram\n",
    "import epygram\n",
    "epygram.init_env()\n",
    "\n",
    "import os\n",
    "INPUTS_DIR = os.path.join('..', 'inputs')"
   ]
  },
  {
   "cell_type": "code",
   "execution_count": null,
   "metadata": {
    "execution": {
     "iopub.execute_input": "2025-01-08T16:29:10.565414Z",
     "iopub.status.busy": "2025-01-08T16:29:10.565206Z",
     "iopub.status.idle": "2025-01-08T16:29:10.769774Z",
     "shell.execute_reply": "2025-01-08T16:29:10.769286Z"
    }
   },
   "outputs": [],
   "source": [
    "r = epygram.open(os.path.join(INPUTS_DIR, 'ICMSHAROM+0022'), 'r')\n",
    "f = r.readfield('SURFACCPLUIE')"
   ]
  },
  {
   "cell_type": "code",
   "execution_count": null,
   "metadata": {
    "execution": {
     "iopub.execute_input": "2025-01-08T16:29:10.771946Z",
     "iopub.status.busy": "2025-01-08T16:29:10.771776Z",
     "iopub.status.idle": "2025-01-08T16:29:11.295779Z",
     "shell.execute_reply": "2025-01-08T16:29:11.295209Z"
    }
   },
   "outputs": [],
   "source": [
    "fig, ax = f.cartoplot(subzone='CI', colormap='rr1h')"
   ]
  },
  {
   "cell_type": "code",
   "execution_count": null,
   "metadata": {
    "execution": {
     "iopub.execute_input": "2025-01-08T16:29:11.297567Z",
     "iopub.status.busy": "2025-01-08T16:29:11.297365Z",
     "iopub.status.idle": "2025-01-08T16:29:11.606121Z",
     "shell.execute_reply": "2025-01-08T16:29:11.605639Z"
    }
   },
   "outputs": [],
   "source": [
    "# shave at 5mm threshold: all values above are set to 5.\n",
    "f.shave(maxval=5.)\n",
    "fig, ax = f.cartoplot(subzone='CI', colormap='rr1h')"
   ]
  },
  {
   "cell_type": "code",
   "execution_count": null,
   "metadata": {},
   "outputs": [],
   "source": []
  }
 ],
 "metadata": {
  "kernelspec": {
   "display_name": "Python 3",
   "language": "python",
   "name": "python3"
  },
  "language_info": {
   "codemirror_mode": {
    "name": "ipython",
    "version": 3
   },
   "file_extension": ".py",
   "mimetype": "text/x-python",
   "name": "python",
   "nbconvert_exporter": "python",
   "pygments_lexer": "ipython3",
   "version": "3.10.12"
  }
 },
 "nbformat": 4,
 "nbformat_minor": 1
}
