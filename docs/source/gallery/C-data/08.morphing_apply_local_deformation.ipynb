{
 "cells": [
  {
   "cell_type": "markdown",
   "metadata": {},
   "source": [
    "# Morphing: apply a local deformation of field"
   ]
  },
  {
   "cell_type": "code",
   "execution_count": null,
   "metadata": {
    "execution": {
     "iopub.execute_input": "2025-01-08T16:29:13.416222Z",
     "iopub.status.busy": "2025-01-08T16:29:13.415723Z",
     "iopub.status.idle": "2025-01-08T16:29:13.941174Z",
     "shell.execute_reply": "2025-01-08T16:29:13.940684Z"
    }
   },
   "outputs": [],
   "source": [
    "%matplotlib inline\n",
    "# for figures in notebook\n",
    "\n",
    "# import & initialize epygram\n",
    "import epygram\n",
    "epygram.init_env()\n",
    "\n",
    "import os\n",
    "INPUTS_DIR = os.path.join('..', 'inputs')"
   ]
  },
  {
   "cell_type": "code",
   "execution_count": null,
   "metadata": {
    "execution": {
     "iopub.execute_input": "2025-01-08T16:29:13.943403Z",
     "iopub.status.busy": "2025-01-08T16:29:13.943169Z",
     "iopub.status.idle": "2025-01-08T16:29:14.145775Z",
     "shell.execute_reply": "2025-01-08T16:29:14.145272Z"
    }
   },
   "outputs": [],
   "source": [
    "r = epygram.open(os.path.join(INPUTS_DIR, 'ICMSHAROM+0022'), 'r')\n",
    "f = r.readfield('SURFTEMPERATURE')"
   ]
  },
  {
   "cell_type": "code",
   "execution_count": null,
   "metadata": {
    "execution": {
     "iopub.execute_input": "2025-01-08T16:29:14.147849Z",
     "iopub.status.busy": "2025-01-08T16:29:14.147703Z",
     "iopub.status.idle": "2025-01-08T16:29:14.681177Z",
     "shell.execute_reply": "2025-01-08T16:29:14.680797Z"
    }
   },
   "outputs": [],
   "source": [
    "fig, ax = f.cartoplot(subzone='CI')"
   ]
  },
  {
   "cell_type": "code",
   "execution_count": null,
   "metadata": {
    "execution": {
     "iopub.execute_input": "2025-01-08T16:29:14.683848Z",
     "iopub.status.busy": "2025-01-08T16:29:14.683684Z",
     "iopub.status.idle": "2025-01-08T16:29:14.688888Z",
     "shell.execute_reply": "2025-01-08T16:29:14.688463Z"
    }
   },
   "outputs": [],
   "source": [
    "# make 2 PointFields by extracting them from the field\n",
    "p1 = f.extract_point(8,45)\n",
    "p2 = f.extract_point(8.5, 45.5)\n",
    "print(p1.getdata(), p2.getdata())"
   ]
  },
  {
   "cell_type": "code",
   "execution_count": null,
   "metadata": {
    "execution": {
     "iopub.execute_input": "2025-01-08T16:29:14.690680Z",
     "iopub.status.busy": "2025-01-08T16:29:14.690480Z",
     "iopub.status.idle": "2025-01-08T16:29:14.692725Z",
     "shell.execute_reply": "2025-01-08T16:29:14.692345Z"
    }
   },
   "outputs": [],
   "source": [
    "# set arbitrary different values\n",
    "p1.setdata(270)\n",
    "p2.setdata(285)"
   ]
  },
  {
   "cell_type": "code",
   "execution_count": null,
   "metadata": {
    "execution": {
     "iopub.execute_input": "2025-01-08T16:29:14.694485Z",
     "iopub.status.busy": "2025-01-08T16:29:14.694315Z",
     "iopub.status.idle": "2025-01-08T16:29:19.450025Z",
     "shell.execute_reply": "2025-01-08T16:29:19.449548Z"
    }
   },
   "outputs": [],
   "source": [
    "f.morph_with_points([p1, p2], morphing='gaussian', sigma=10000)  # gaussian blending weight with 10km sigma"
   ]
  },
  {
   "cell_type": "code",
   "execution_count": null,
   "metadata": {
    "execution": {
     "iopub.execute_input": "2025-01-08T16:29:19.452103Z",
     "iopub.status.busy": "2025-01-08T16:29:19.451891Z",
     "iopub.status.idle": "2025-01-08T16:29:19.765506Z",
     "shell.execute_reply": "2025-01-08T16:29:19.764992Z"
    }
   },
   "outputs": [],
   "source": [
    "fig, ax = f.cartoplot(subzone='CI')"
   ]
  },
  {
   "cell_type": "code",
   "execution_count": null,
   "metadata": {
    "execution": {
     "iopub.execute_input": "2025-01-08T16:29:19.768134Z",
     "iopub.status.busy": "2025-01-08T16:29:19.767948Z",
     "iopub.status.idle": "2025-01-08T16:29:22.159105Z",
     "shell.execute_reply": "2025-01-08T16:29:22.158590Z"
    }
   },
   "outputs": [],
   "source": [
    "# or as increment (less brutal):\n",
    "p = f.extract_point(7,46)\n",
    "p.setdata(+10)  # +10K increment\n",
    "f.morph_with_points([p], morphing='gaussian', sigma=10000, increment=True)"
   ]
  },
  {
   "cell_type": "code",
   "execution_count": null,
   "metadata": {
    "execution": {
     "iopub.execute_input": "2025-01-08T16:29:22.161116Z",
     "iopub.status.busy": "2025-01-08T16:29:22.160904Z",
     "iopub.status.idle": "2025-01-08T16:29:22.482378Z",
     "shell.execute_reply": "2025-01-08T16:29:22.481882Z"
    }
   },
   "outputs": [],
   "source": [
    "fig, ax = f.cartoplot(subzone='CI')"
   ]
  },
  {
   "cell_type": "code",
   "execution_count": null,
   "metadata": {},
   "outputs": [],
   "source": []
  }
 ],
 "metadata": {
  "kernelspec": {
   "display_name": "Python 3",
   "language": "python",
   "name": "python3"
  },
  "language_info": {
   "codemirror_mode": {
    "name": "ipython",
    "version": 3
   },
   "file_extension": ".py",
   "mimetype": "text/x-python",
   "name": "python",
   "nbconvert_exporter": "python",
   "pygments_lexer": "ipython3",
   "version": "3.10.12"
  }
 },
 "nbformat": 4,
 "nbformat_minor": 1
}
