{
 "cells": [
  {
   "cell_type": "markdown",
   "metadata": {},
   "source": [
    "# Modify field data, by adding a white noise to it\n",
    "\n",
    "and visualization of differences as (DCT) variance spectrum plot"
   ]
  },
  {
   "cell_type": "code",
   "execution_count": null,
   "metadata": {
    "execution": {
     "iopub.execute_input": "2025-01-08T16:28:49.487523Z",
     "iopub.status.busy": "2025-01-08T16:28:49.487088Z",
     "iopub.status.idle": "2025-01-08T16:28:50.015799Z",
     "shell.execute_reply": "2025-01-08T16:28:50.015179Z"
    }
   },
   "outputs": [],
   "source": [
    "%matplotlib inline\n",
    "# for figures in notebook\n",
    "\n",
    "# import & initialize epygram\n",
    "import epygram\n",
    "epygram.init_env()\n",
    "\n",
    "import os\n",
    "INPUTS_DIR = os.path.join('..', 'inputs')"
   ]
  },
  {
   "cell_type": "code",
   "execution_count": null,
   "metadata": {
    "execution": {
     "iopub.execute_input": "2025-01-08T16:28:50.018020Z",
     "iopub.status.busy": "2025-01-08T16:28:50.017694Z",
     "iopub.status.idle": "2025-01-08T16:28:52.211720Z",
     "shell.execute_reply": "2025-01-08T16:28:52.211094Z"
    }
   },
   "outputs": [],
   "source": [
    "r = epygram.open(os.path.join(INPUTS_DIR, 'ICMSHAROM+0022'), 'r')\n",
    "t59 = r.readfield('S059TEMPERATURE')\n",
    "t59.sp2gp()"
   ]
  },
  {
   "cell_type": "code",
   "execution_count": null,
   "metadata": {
    "execution": {
     "iopub.execute_input": "2025-01-08T16:28:52.213913Z",
     "iopub.status.busy": "2025-01-08T16:28:52.213742Z",
     "iopub.status.idle": "2025-01-08T16:28:52.404365Z",
     "shell.execute_reply": "2025-01-08T16:28:52.403864Z"
    }
   },
   "outputs": [],
   "source": [
    "# initial field\n",
    "sp59 = t59.dctspectrum()\n",
    "sp59.name = t59.fid['FA']"
   ]
  },
  {
   "cell_type": "code",
   "execution_count": null,
   "metadata": {
    "execution": {
     "iopub.execute_input": "2025-01-08T16:28:52.406594Z",
     "iopub.status.busy": "2025-01-08T16:28:52.406314Z",
     "iopub.status.idle": "2025-01-08T16:28:52.508882Z",
     "shell.execute_reply": "2025-01-08T16:28:52.508326Z"
    }
   },
   "outputs": [],
   "source": [
    "# add a white noise\n",
    "import numpy\n",
    "field_data = t59.getdata()\n",
    "noise = numpy.random.normal(0, size=field_data.shape)\n",
    "t59.setdata(field_data + noise)\n",
    "# and compute DCT spectrum\n",
    "sp59n = t59.dctspectrum()\n",
    "sp59n.name = sp59.name + '(noised)'"
   ]
  },
  {
   "cell_type": "code",
   "execution_count": null,
   "metadata": {
    "execution": {
     "iopub.execute_input": "2025-01-08T16:28:52.510277Z",
     "iopub.status.busy": "2025-01-08T16:28:52.510079Z",
     "iopub.status.idle": "2025-01-08T16:28:53.158354Z",
     "shell.execute_reply": "2025-01-08T16:28:53.157871Z"
    }
   },
   "outputs": [],
   "source": [
    "# and plot\n",
    "fig, ax = epygram.spectra.plotspectra([sp59, sp59n])"
   ]
  },
  {
   "cell_type": "code",
   "execution_count": null,
   "metadata": {},
   "outputs": [],
   "source": []
  }
 ],
 "metadata": {
  "kernelspec": {
   "display_name": "Python 3",
   "language": "python",
   "name": "python3"
  },
  "language_info": {
   "codemirror_mode": {
    "name": "ipython",
    "version": 3
   },
   "file_extension": ".py",
   "mimetype": "text/x-python",
   "name": "python",
   "nbconvert_exporter": "python",
   "pygments_lexer": "ipython3",
   "version": "3.10.12"
  }
 },
 "nbformat": 4,
 "nbformat_minor": 1
}
