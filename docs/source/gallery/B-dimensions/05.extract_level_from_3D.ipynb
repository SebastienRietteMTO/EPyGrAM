{
 "cells": [
  {
   "cell_type": "markdown",
   "metadata": {},
   "source": [
    "# Exctract a level from a 3D field"
   ]
  },
  {
   "cell_type": "code",
   "execution_count": null,
   "metadata": {
    "execution": {
     "iopub.execute_input": "2025-01-08T16:27:31.751486Z",
     "iopub.status.busy": "2025-01-08T16:27:31.750277Z",
     "iopub.status.idle": "2025-01-08T16:27:32.287414Z",
     "shell.execute_reply": "2025-01-08T16:27:32.286806Z"
    }
   },
   "outputs": [],
   "source": [
    "# for figures in notebook\n",
    "%matplotlib inline\n",
    "# import & initialize epygram\n",
    "import epygram\n",
    "epygram.init_env()\n",
    "# path to file\n",
    "import os\n",
    "INPUTS_DIR = os.path.join('..', 'inputs')"
   ]
  },
  {
   "cell_type": "code",
   "execution_count": null,
   "metadata": {
    "execution": {
     "iopub.execute_input": "2025-01-08T16:27:32.289605Z",
     "iopub.status.busy": "2025-01-08T16:27:32.289354Z",
     "iopub.status.idle": "2025-01-08T16:27:32.429505Z",
     "shell.execute_reply": "2025-01-08T16:27:32.428974Z"
    }
   },
   "outputs": [],
   "source": [
    "# open resource as a meta-CL-resource, CL = Combine Levels\n",
    "r = epygram.resources.meta_resource(os.path.join(INPUTS_DIR, 'ICMSHAROM+0022'), 'r', 'CL')\n",
    "# in this case, field need to be defined with GRIB2 nomenclature"
   ]
  },
  {
   "cell_type": "code",
   "execution_count": null,
   "metadata": {
    "execution": {
     "iopub.execute_input": "2025-01-08T16:27:32.431955Z",
     "iopub.status.busy": "2025-01-08T16:27:32.431768Z",
     "iopub.status.idle": "2025-01-08T16:27:34.916322Z",
     "shell.execute_reply": "2025-01-08T16:27:34.915780Z"
    }
   },
   "outputs": [],
   "source": [
    "f = r.readfield({'discipline':0, 'parameterCategory':0, 'parameterNumber':0, 'typeOfFirstFixedSurface':119})"
   ]
  },
  {
   "cell_type": "code",
   "execution_count": null,
   "metadata": {
    "execution": {
     "iopub.execute_input": "2025-01-08T16:27:34.918560Z",
     "iopub.status.busy": "2025-01-08T16:27:34.918347Z",
     "iopub.status.idle": "2025-01-08T16:27:35.038862Z",
     "shell.execute_reply": "2025-01-08T16:27:35.038372Z"
    }
   },
   "outputs": [],
   "source": [
    "f.sp2gp()"
   ]
  },
  {
   "cell_type": "code",
   "execution_count": null,
   "metadata": {
    "execution": {
     "iopub.execute_input": "2025-01-08T16:27:35.040643Z",
     "iopub.status.busy": "2025-01-08T16:27:35.040468Z",
     "iopub.status.idle": "2025-01-08T16:27:35.044662Z",
     "shell.execute_reply": "2025-01-08T16:27:35.044277Z"
    }
   },
   "outputs": [],
   "source": [
    "f18 = f.getlevel(18)"
   ]
  },
  {
   "cell_type": "code",
   "execution_count": null,
   "metadata": {
    "execution": {
     "iopub.execute_input": "2025-01-08T16:27:35.046363Z",
     "iopub.status.busy": "2025-01-08T16:27:35.046178Z",
     "iopub.status.idle": "2025-01-08T16:27:35.048729Z",
     "shell.execute_reply": "2025-01-08T16:27:35.048354Z"
    }
   },
   "outputs": [],
   "source": [
    "print(type(f))\n",
    "print(type(f18))\n",
    "print(f18.geometry.vcoordinate.levels)"
   ]
  },
  {
   "cell_type": "code",
   "execution_count": null,
   "metadata": {},
   "outputs": [],
   "source": []
  }
 ],
 "metadata": {
  "kernelspec": {
   "display_name": "Python 3",
   "language": "python",
   "name": "python3"
  },
  "language_info": {
   "codemirror_mode": {
    "name": "ipython",
    "version": 3
   },
   "file_extension": ".py",
   "mimetype": "text/x-python",
   "name": "python",
   "nbconvert_exporter": "python",
   "pygments_lexer": "ipython3",
   "version": "3.10.12"
  }
 },
 "nbformat": 4,
 "nbformat_minor": 2
}
