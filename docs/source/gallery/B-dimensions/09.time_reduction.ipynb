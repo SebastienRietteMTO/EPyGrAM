{
 "cells": [
  {
   "cell_type": "markdown",
   "metadata": {},
   "source": [
    "# Time reduction"
   ]
  },
  {
   "cell_type": "code",
   "execution_count": null,
   "metadata": {
    "execution": {
     "iopub.execute_input": "2025-01-08T16:28:36.753327Z",
     "iopub.status.busy": "2025-01-08T16:28:36.752846Z",
     "iopub.status.idle": "2025-01-08T16:28:37.282345Z",
     "shell.execute_reply": "2025-01-08T16:28:37.281854Z"
    }
   },
   "outputs": [],
   "source": [
    "%matplotlib inline\n",
    "# for figures in notebook\n",
    "\n",
    "# import & initialize epygram\n",
    "import epygram\n",
    "epygram.init_env()\n",
    "\n",
    "# path to file\n",
    "import os\n",
    "INPUTS_DIR = os.path.join('..', 'inputs')"
   ]
  },
  {
   "cell_type": "code",
   "execution_count": null,
   "metadata": {
    "execution": {
     "iopub.execute_input": "2025-01-08T16:28:37.284447Z",
     "iopub.status.busy": "2025-01-08T16:28:37.284235Z",
     "iopub.status.idle": "2025-01-08T16:28:37.608187Z",
     "shell.execute_reply": "2025-01-08T16:28:37.607695Z"
    }
   },
   "outputs": [],
   "source": [
    "paths = [os.path.join(INPUTS_DIR, 'grid.arome-forecast.guyane0025+00{:02}:00.grib'.format(i))\n",
    "         for i in (0, 12, 24)]\n",
    "r = epygram.resources.meta_resource(paths, 'r', 'MV')  # MV = Multi-Validities"
   ]
  },
  {
   "cell_type": "code",
   "execution_count": null,
   "metadata": {
    "execution": {
     "iopub.execute_input": "2025-01-08T16:28:37.610325Z",
     "iopub.status.busy": "2025-01-08T16:28:37.610115Z",
     "iopub.status.idle": "2025-01-08T16:28:38.232513Z",
     "shell.execute_reply": "2025-01-08T16:28:38.232020Z"
    }
   },
   "outputs": [],
   "source": [
    "f = r.readfield('shortName:2r')"
   ]
  },
  {
   "cell_type": "code",
   "execution_count": null,
   "metadata": {
    "execution": {
     "iopub.execute_input": "2025-01-08T16:28:38.234553Z",
     "iopub.status.busy": "2025-01-08T16:28:38.234346Z",
     "iopub.status.idle": "2025-01-08T16:28:38.237576Z",
     "shell.execute_reply": "2025-01-08T16:28:38.237134Z"
    }
   },
   "outputs": [],
   "source": [
    "print(f.data.shape)\n",
    "print(f.validity)\n",
    "print(f.validity[2])\n",
    "print(f.data[:,0,0])"
   ]
  },
  {
   "cell_type": "code",
   "execution_count": null,
   "metadata": {
    "execution": {
     "iopub.execute_input": "2025-01-08T16:28:38.239317Z",
     "iopub.status.busy": "2025-01-08T16:28:38.239136Z",
     "iopub.status.idle": "2025-01-08T16:28:38.241922Z",
     "shell.execute_reply": "2025-01-08T16:28:38.241541Z"
    }
   },
   "outputs": [],
   "source": [
    "f.time_reduce()"
   ]
  },
  {
   "cell_type": "code",
   "execution_count": null,
   "metadata": {
    "execution": {
     "iopub.execute_input": "2025-01-08T16:28:38.243510Z",
     "iopub.status.busy": "2025-01-08T16:28:38.243335Z",
     "iopub.status.idle": "2025-01-08T16:28:38.245880Z",
     "shell.execute_reply": "2025-01-08T16:28:38.245522Z"
    }
   },
   "outputs": [],
   "source": [
    "print(f.data.shape)\n",
    "print(f.validity[0])  # Validity is now the cumulated statistical process on the window\n",
    "print(f.data[0,0])"
   ]
  },
  {
   "cell_type": "code",
   "execution_count": null,
   "metadata": {},
   "outputs": [],
   "source": []
  }
 ],
 "metadata": {
  "kernelspec": {
   "display_name": "Python 3",
   "language": "python",
   "name": "python3"
  },
  "language_info": {
   "codemirror_mode": {
    "name": "ipython",
    "version": 3
   },
   "file_extension": ".py",
   "mimetype": "text/x-python",
   "name": "python",
   "nbconvert_exporter": "python",
   "pygments_lexer": "ipython3",
   "version": "3.10.12"
  }
 },
 "nbformat": 4,
 "nbformat_minor": 2
}
