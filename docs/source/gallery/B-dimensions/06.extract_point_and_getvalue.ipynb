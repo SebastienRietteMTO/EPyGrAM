{
 "cells": [
  {
   "cell_type": "markdown",
   "metadata": {},
   "source": [
    "# Extract 0D field = Point, from a H2DField"
   ]
  },
  {
   "cell_type": "code",
   "execution_count": null,
   "metadata": {
    "execution": {
     "iopub.execute_input": "2025-01-08T16:27:36.947492Z",
     "iopub.status.busy": "2025-01-08T16:27:36.947025Z",
     "iopub.status.idle": "2025-01-08T16:27:37.487620Z",
     "shell.execute_reply": "2025-01-08T16:27:37.486980Z"
    }
   },
   "outputs": [],
   "source": [
    "# for figures in notebook\n",
    "%matplotlib inline\n",
    "# import & initialize epygram\n",
    "import epygram\n",
    "epygram.init_env()\n",
    "# path to file\n",
    "import os\n",
    "INPUTS_DIR = os.path.join('..', 'inputs')"
   ]
  },
  {
   "cell_type": "code",
   "execution_count": null,
   "metadata": {
    "execution": {
     "iopub.execute_input": "2025-01-08T16:27:37.490018Z",
     "iopub.status.busy": "2025-01-08T16:27:37.489785Z",
     "iopub.status.idle": "2025-01-08T16:27:37.636538Z",
     "shell.execute_reply": "2025-01-08T16:27:37.636072Z"
    }
   },
   "outputs": [],
   "source": [
    "r = epygram.open(os.path.join(INPUTS_DIR, 'ICMSHAROM+0022'), 'r')"
   ]
  },
  {
   "cell_type": "code",
   "execution_count": null,
   "metadata": {
    "execution": {
     "iopub.execute_input": "2025-01-08T16:27:37.638445Z",
     "iopub.status.busy": "2025-01-08T16:27:37.638285Z",
     "iopub.status.idle": "2025-01-08T16:27:37.695289Z",
     "shell.execute_reply": "2025-01-08T16:27:37.694889Z"
    }
   },
   "outputs": [],
   "source": [
    "f = r.readfield('SURFTEMPERATURE')"
   ]
  },
  {
   "cell_type": "code",
   "execution_count": null,
   "metadata": {
    "execution": {
     "iopub.execute_input": "2025-01-08T16:27:37.697021Z",
     "iopub.status.busy": "2025-01-08T16:27:37.696826Z",
     "iopub.status.idle": "2025-01-08T16:27:37.701657Z",
     "shell.execute_reply": "2025-01-08T16:27:37.701300Z"
    }
   },
   "outputs": [],
   "source": [
    "pt = f.extract_point(8, 45)  # 8°E, 45°N\n",
    "print(type(pt))\n",
    "print(pt.data)"
   ]
  },
  {
   "cell_type": "code",
   "execution_count": null,
   "metadata": {
    "execution": {
     "iopub.execute_input": "2025-01-08T16:27:37.703334Z",
     "iopub.status.busy": "2025-01-08T16:27:37.703138Z",
     "iopub.status.idle": "2025-01-08T16:27:37.705901Z",
     "shell.execute_reply": "2025-01-08T16:27:37.705531Z"
    }
   },
   "outputs": [],
   "source": [
    "val = f.getvalue_ll(8, 45)  # 8°E, 45°N\n",
    "print(type(val))\n",
    "print(val)"
   ]
  },
  {
   "cell_type": "code",
   "execution_count": null,
   "metadata": {},
   "outputs": [],
   "source": []
  }
 ],
 "metadata": {
  "kernelspec": {
   "display_name": "Python 3",
   "language": "python",
   "name": "python3"
  },
  "language_info": {
   "codemirror_mode": {
    "name": "ipython",
    "version": 3
   },
   "file_extension": ".py",
   "mimetype": "text/x-python",
   "name": "python",
   "nbconvert_exporter": "python",
   "pygments_lexer": "ipython3",
   "version": "3.10.12"
  }
 },
 "nbformat": 4,
 "nbformat_minor": 2
}
