{
 "cells": [
  {
   "cell_type": "markdown",
   "metadata": {},
   "source": [
    "# Aggregate fields temporally (manually)"
   ]
  },
  {
   "cell_type": "code",
   "execution_count": null,
   "metadata": {
    "execution": {
     "iopub.execute_input": "2025-01-08T16:26:57.241877Z",
     "iopub.status.busy": "2025-01-08T16:26:57.241385Z",
     "iopub.status.idle": "2025-01-08T16:26:57.773983Z",
     "shell.execute_reply": "2025-01-08T16:26:57.773414Z"
    }
   },
   "outputs": [],
   "source": [
    "# for figures in notebook\n",
    "%matplotlib inline\n",
    "# import & initialize epygram\n",
    "import epygram\n",
    "epygram.init_env()\n",
    "# path to file\n",
    "import os\n",
    "INPUTS_DIR = os.path.join('..', 'inputs')"
   ]
  },
  {
   "cell_type": "code",
   "execution_count": null,
   "metadata": {
    "execution": {
     "iopub.execute_input": "2025-01-08T16:26:57.776003Z",
     "iopub.status.busy": "2025-01-08T16:26:57.775782Z",
     "iopub.status.idle": "2025-01-08T16:26:58.106304Z",
     "shell.execute_reply": "2025-01-08T16:26:58.105806Z"
    }
   },
   "outputs": [],
   "source": [
    "r1 = epygram.open(os.path.join(INPUTS_DIR, 'grid.arome-forecast.guyane0025+0000:00.grib'), 'r')\n",
    "r2 = epygram.open(os.path.join(INPUTS_DIR, 'grid.arome-forecast.guyane0025+0012:00.grib'), 'r')\n",
    "r3 = epygram.open(os.path.join(INPUTS_DIR, 'grid.arome-forecast.guyane0025+0024:00.grib'), 'r')"
   ]
  },
  {
   "cell_type": "code",
   "execution_count": null,
   "metadata": {
    "execution": {
     "iopub.execute_input": "2025-01-08T16:26:58.108378Z",
     "iopub.status.busy": "2025-01-08T16:26:58.108167Z",
     "iopub.status.idle": "2025-01-08T16:26:58.726197Z",
     "shell.execute_reply": "2025-01-08T16:26:58.725371Z"
    }
   },
   "outputs": [],
   "source": [
    "f1 = r1.readfield('shortName:2r')\n",
    "f2 = r2.readfield('shortName:2r')\n",
    "f3 = r3.readfield('shortName:2r')"
   ]
  },
  {
   "cell_type": "code",
   "execution_count": null,
   "metadata": {
    "execution": {
     "iopub.execute_input": "2025-01-08T16:26:58.728303Z",
     "iopub.status.busy": "2025-01-08T16:26:58.728077Z",
     "iopub.status.idle": "2025-01-08T16:26:58.732060Z",
     "shell.execute_reply": "2025-01-08T16:26:58.731656Z"
    }
   },
   "outputs": [],
   "source": [
    "f1.extend(f2)\n",
    "f1.extend(f3)"
   ]
  },
  {
   "cell_type": "code",
   "execution_count": null,
   "metadata": {
    "execution": {
     "iopub.execute_input": "2025-01-08T16:26:58.733715Z",
     "iopub.status.busy": "2025-01-08T16:26:58.733549Z",
     "iopub.status.idle": "2025-01-08T16:26:58.736040Z",
     "shell.execute_reply": "2025-01-08T16:26:58.735700Z"
    }
   },
   "outputs": [],
   "source": [
    "print(f1.validity)\n",
    "print(f1.getdata(d4=True).shape)"
   ]
  },
  {
   "cell_type": "code",
   "execution_count": null,
   "metadata": {},
   "outputs": [],
   "source": []
  }
 ],
 "metadata": {
  "kernelspec": {
   "display_name": "Python 3",
   "language": "python",
   "name": "python3"
  },
  "language_info": {
   "codemirror_mode": {
    "name": "ipython",
    "version": 3
   },
   "file_extension": ".py",
   "mimetype": "text/x-python",
   "name": "python",
   "nbconvert_exporter": "python",
   "pygments_lexer": "ipython3",
   "version": "3.10.12"
  }
 },
 "nbformat": 4,
 "nbformat_minor": 2
}
