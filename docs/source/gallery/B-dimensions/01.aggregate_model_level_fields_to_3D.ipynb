{
 "cells": [
  {
   "cell_type": "markdown",
   "metadata": {},
   "source": [
    "# Aggregate model-level fields to a 3D-field, save it to netCDF"
   ]
  },
  {
   "cell_type": "code",
   "execution_count": null,
   "metadata": {
    "execution": {
     "iopub.execute_input": "2025-01-08T16:26:50.997004Z",
     "iopub.status.busy": "2025-01-08T16:26:50.996494Z",
     "iopub.status.idle": "2025-01-08T16:26:51.535632Z",
     "shell.execute_reply": "2025-01-08T16:26:51.535127Z"
    }
   },
   "outputs": [],
   "source": [
    "# for figures in notebook\n",
    "%matplotlib inline\n",
    "# import & initialize epygram\n",
    "import epygram\n",
    "epygram.init_env()\n",
    "# path to file\n",
    "import os\n",
    "INPUTS_DIR = os.path.join('..', 'inputs')"
   ]
  },
  {
   "cell_type": "code",
   "execution_count": null,
   "metadata": {
    "execution": {
     "iopub.execute_input": "2025-01-08T16:26:51.537778Z",
     "iopub.status.busy": "2025-01-08T16:26:51.537550Z",
     "iopub.status.idle": "2025-01-08T16:26:51.679335Z",
     "shell.execute_reply": "2025-01-08T16:26:51.678784Z"
    }
   },
   "outputs": [],
   "source": [
    "# open resource as a meta-CL-resource, CL = Combine Levels\n",
    "r = epygram.resources.meta_resource(os.path.join(INPUTS_DIR, 'ICMSHAROM+0022'), 'r', 'CL')\n",
    "# in this case, field need to be defined with GRIB2 nomenclature"
   ]
  },
  {
   "cell_type": "code",
   "execution_count": null,
   "metadata": {
    "execution": {
     "iopub.execute_input": "2025-01-08T16:26:51.681493Z",
     "iopub.status.busy": "2025-01-08T16:26:51.681274Z",
     "iopub.status.idle": "2025-01-08T16:26:54.172303Z",
     "shell.execute_reply": "2025-01-08T16:26:54.171810Z"
    }
   },
   "outputs": [],
   "source": [
    "f = r.readfield({'discipline':0, 'parameterCategory':0, 'parameterNumber':0, 'typeOfFirstFixedSurface':119})"
   ]
  },
  {
   "cell_type": "code",
   "execution_count": null,
   "metadata": {
    "execution": {
     "iopub.execute_input": "2025-01-08T16:26:54.174314Z",
     "iopub.status.busy": "2025-01-08T16:26:54.174106Z",
     "iopub.status.idle": "2025-01-08T16:26:54.293840Z",
     "shell.execute_reply": "2025-01-08T16:26:54.293296Z"
    }
   },
   "outputs": [],
   "source": [
    "print(f.spectral)\n",
    "f.sp2gp()"
   ]
  },
  {
   "cell_type": "code",
   "execution_count": null,
   "metadata": {
    "execution": {
     "iopub.execute_input": "2025-01-08T16:26:54.295728Z",
     "iopub.status.busy": "2025-01-08T16:26:54.295500Z",
     "iopub.status.idle": "2025-01-08T16:26:54.298220Z",
     "shell.execute_reply": "2025-01-08T16:26:54.297762Z"
    }
   },
   "outputs": [],
   "source": [
    "print(f.getdata(d4=True).shape)"
   ]
  },
  {
   "cell_type": "code",
   "execution_count": null,
   "metadata": {
    "execution": {
     "iopub.execute_input": "2025-01-08T16:26:54.299886Z",
     "iopub.status.busy": "2025-01-08T16:26:54.299703Z",
     "iopub.status.idle": "2025-01-08T16:26:55.323816Z",
     "shell.execute_reply": "2025-01-08T16:26:55.323207Z"
    }
   },
   "outputs": [],
   "source": [
    "f.dump_to_nc('/tmp/temp.nc', variablename='temperature')"
   ]
  },
  {
   "cell_type": "code",
   "execution_count": null,
   "metadata": {},
   "outputs": [],
   "source": []
  }
 ],
 "metadata": {
  "kernelspec": {
   "display_name": "Python 3",
   "language": "python",
   "name": "python3"
  },
  "language_info": {
   "codemirror_mode": {
    "name": "ipython",
    "version": 3
   },
   "file_extension": ".py",
   "mimetype": "text/x-python",
   "name": "python",
   "nbconvert_exporter": "python",
   "pygments_lexer": "ipython3",
   "version": "3.10.12"
  }
 },
 "nbformat": 4,
 "nbformat_minor": 2
}
