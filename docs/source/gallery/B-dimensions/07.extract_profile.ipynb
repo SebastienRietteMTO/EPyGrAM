{
 "cells": [
  {
   "cell_type": "markdown",
   "metadata": {},
   "source": [
    "# Extract a V1D+T profile from a 4D field"
   ]
  },
  {
   "cell_type": "code",
   "execution_count": null,
   "metadata": {
    "execution": {
     "iopub.execute_input": "2025-01-08T16:27:39.603320Z",
     "iopub.status.busy": "2025-01-08T16:27:39.602266Z",
     "iopub.status.idle": "2025-01-08T16:27:40.138775Z",
     "shell.execute_reply": "2025-01-08T16:27:40.138265Z"
    }
   },
   "outputs": [],
   "source": [
    "%matplotlib inline\n",
    "# for figures in notebook\n",
    "\n",
    "# import & initialize epygram\n",
    "import epygram\n",
    "epygram.init_env()\n",
    "\n",
    "# path to file\n",
    "import os\n",
    "INPUTS_DIR = os.path.join('..', 'inputs')"
   ]
  },
  {
   "cell_type": "code",
   "execution_count": null,
   "metadata": {
    "execution": {
     "iopub.execute_input": "2025-01-08T16:27:40.141017Z",
     "iopub.status.busy": "2025-01-08T16:27:40.140783Z",
     "iopub.status.idle": "2025-01-08T16:27:40.468901Z",
     "shell.execute_reply": "2025-01-08T16:27:40.468457Z"
    }
   },
   "outputs": [],
   "source": [
    "paths = [os.path.join(INPUTS_DIR, 'grid.arome-forecast.guyane0025+00{:02}:00.grib'.format(i))\n",
    "         for i in (0, 12, 24)]\n",
    "r = epygram.resources.meta_resource(paths, 'r', 'CL+MV')"
   ]
  },
  {
   "cell_type": "code",
   "execution_count": null,
   "metadata": {
    "execution": {
     "iopub.execute_input": "2025-01-08T16:27:40.471029Z",
     "iopub.status.busy": "2025-01-08T16:27:40.470841Z",
     "iopub.status.idle": "2025-01-08T16:28:06.235647Z",
     "shell.execute_reply": "2025-01-08T16:28:06.235131Z"
    }
   },
   "outputs": [],
   "source": [
    "f = r.readfield({'shortName':'t', 'typeOfFirstFixedSurface':100})  # temperature on pressure levels"
   ]
  },
  {
   "cell_type": "code",
   "execution_count": null,
   "metadata": {
    "execution": {
     "iopub.execute_input": "2025-01-08T16:28:06.237861Z",
     "iopub.status.busy": "2025-01-08T16:28:06.237659Z",
     "iopub.status.idle": "2025-01-08T16:28:06.240563Z",
     "shell.execute_reply": "2025-01-08T16:28:06.240199Z"
    }
   },
   "outputs": [],
   "source": [
    "print(f.getdata(d4=True).shape)"
   ]
  },
  {
   "cell_type": "code",
   "execution_count": null,
   "metadata": {
    "execution": {
     "iopub.execute_input": "2025-01-08T16:28:06.242351Z",
     "iopub.status.busy": "2025-01-08T16:28:06.242176Z",
     "iopub.status.idle": "2025-01-08T16:28:06.274715Z",
     "shell.execute_reply": "2025-01-08T16:28:06.274301Z"
    }
   },
   "outputs": [],
   "source": [
    "p = f.extractprofile(-55,5)"
   ]
  },
  {
   "cell_type": "code",
   "execution_count": null,
   "metadata": {
    "execution": {
     "iopub.execute_input": "2025-01-08T16:28:06.276561Z",
     "iopub.status.busy": "2025-01-08T16:28:06.276415Z",
     "iopub.status.idle": "2025-01-08T16:28:06.279025Z",
     "shell.execute_reply": "2025-01-08T16:28:06.278644Z"
    }
   },
   "outputs": [],
   "source": [
    "print(type(p))\n",
    "print(p.getdata(d4=True).shape)"
   ]
  },
  {
   "cell_type": "code",
   "execution_count": null,
   "metadata": {},
   "outputs": [],
   "source": []
  }
 ],
 "metadata": {
  "kernelspec": {
   "display_name": "Python 3",
   "language": "python",
   "name": "python3"
  },
  "language_info": {
   "codemirror_mode": {
    "name": "ipython",
    "version": 3
   },
   "file_extension": ".py",
   "mimetype": "text/x-python",
   "name": "python",
   "nbconvert_exporter": "python",
   "pygments_lexer": "ipython3",
   "version": "3.10.12"
  }
 },
 "nbformat": 4,
 "nbformat_minor": 2
}
