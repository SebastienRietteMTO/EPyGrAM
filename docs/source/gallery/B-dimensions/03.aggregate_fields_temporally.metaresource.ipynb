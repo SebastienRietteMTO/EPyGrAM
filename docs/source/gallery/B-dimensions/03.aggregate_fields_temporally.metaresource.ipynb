{
 "cells": [
  {
   "cell_type": "markdown",
   "metadata": {},
   "source": [
    "# Aggregate fields temporally (via meta_resource)"
   ]
  },
  {
   "cell_type": "code",
   "execution_count": null,
   "metadata": {
    "execution": {
     "iopub.execute_input": "2025-01-08T16:27:00.571909Z",
     "iopub.status.busy": "2025-01-08T16:27:00.571246Z",
     "iopub.status.idle": "2025-01-08T16:27:01.095291Z",
     "shell.execute_reply": "2025-01-08T16:27:01.094792Z"
    }
   },
   "outputs": [],
   "source": [
    "%matplotlib inline\n",
    "# for figures in notebook\n",
    "\n",
    "# import & initialize epygram\n",
    "import epygram\n",
    "epygram.init_env()\n",
    "\n",
    "# path to file\n",
    "import os\n",
    "INPUTS_DIR = os.path.join('..', 'inputs')"
   ]
  },
  {
   "cell_type": "code",
   "execution_count": null,
   "metadata": {
    "execution": {
     "iopub.execute_input": "2025-01-08T16:27:01.097532Z",
     "iopub.status.busy": "2025-01-08T16:27:01.097309Z",
     "iopub.status.idle": "2025-01-08T16:27:01.433659Z",
     "shell.execute_reply": "2025-01-08T16:27:01.433152Z"
    }
   },
   "outputs": [],
   "source": [
    "paths = [os.path.join(INPUTS_DIR, 'grid.arome-forecast.guyane0025+00{:02}:00.grib'.format(i))\n",
    "         for i in (0, 12, 24)]\n",
    "r = epygram.resources.meta_resource(paths, 'r', 'MV')  # MV = Multi-Validities"
   ]
  },
  {
   "cell_type": "code",
   "execution_count": null,
   "metadata": {
    "execution": {
     "iopub.execute_input": "2025-01-08T16:27:01.435808Z",
     "iopub.status.busy": "2025-01-08T16:27:01.435610Z",
     "iopub.status.idle": "2025-01-08T16:27:02.063357Z",
     "shell.execute_reply": "2025-01-08T16:27:02.062863Z"
    }
   },
   "outputs": [],
   "source": [
    "f = r.readfield('shortName:2r')"
   ]
  },
  {
   "cell_type": "code",
   "execution_count": null,
   "metadata": {
    "execution": {
     "iopub.execute_input": "2025-01-08T16:27:02.065386Z",
     "iopub.status.busy": "2025-01-08T16:27:02.065177Z",
     "iopub.status.idle": "2025-01-08T16:27:02.068191Z",
     "shell.execute_reply": "2025-01-08T16:27:02.067721Z"
    }
   },
   "outputs": [],
   "source": [
    "print(f.validity)\n",
    "print(f.getdata(d4=True).shape)"
   ]
  },
  {
   "cell_type": "code",
   "execution_count": null,
   "metadata": {},
   "outputs": [],
   "source": []
  }
 ],
 "metadata": {
  "kernelspec": {
   "display_name": "Python 3",
   "language": "python",
   "name": "python3"
  },
  "language_info": {
   "codemirror_mode": {
    "name": "ipython",
    "version": 3
   },
   "file_extension": ".py",
   "mimetype": "text/x-python",
   "name": "python",
   "nbconvert_exporter": "python",
   "pygments_lexer": "ipython3",
   "version": "3.10.12"
  }
 },
 "nbformat": 4,
 "nbformat_minor": 2
}
