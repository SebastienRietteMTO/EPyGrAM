{
 "cells": [
  {
   "cell_type": "markdown",
   "metadata": {},
   "source": [
    "# netCDF specificities"
   ]
  },
  {
   "cell_type": "code",
   "execution_count": null,
   "metadata": {
    "execution": {
     "iopub.execute_input": "2025-01-08T16:30:07.133467Z",
     "iopub.status.busy": "2025-01-08T16:30:07.132978Z",
     "iopub.status.idle": "2025-01-08T16:30:07.663647Z",
     "shell.execute_reply": "2025-01-08T16:30:07.663212Z"
    }
   },
   "outputs": [],
   "source": [
    "%matplotlib inline\n",
    "# for figures in notebook\n",
    "\n",
    "# import & initialize epygram\n",
    "import epygram\n",
    "epygram.init_env()\n",
    "\n",
    "import os\n",
    "INPUTS_DIR = os.path.join('..', 'inputs')"
   ]
  },
  {
   "cell_type": "code",
   "execution_count": null,
   "metadata": {
    "execution": {
     "iopub.execute_input": "2025-01-08T16:30:07.665844Z",
     "iopub.status.busy": "2025-01-08T16:30:07.665622Z",
     "iopub.status.idle": "2025-01-08T16:30:07.680955Z",
     "shell.execute_reply": "2025-01-08T16:30:07.680510Z"
    }
   },
   "outputs": [],
   "source": [
    "r = epygram.open(os.path.join(INPUTS_DIR, 'aladin.197901.nc'), 'r')"
   ]
  },
  {
   "cell_type": "code",
   "execution_count": null,
   "metadata": {
    "execution": {
     "iopub.execute_input": "2025-01-08T16:30:07.682576Z",
     "iopub.status.busy": "2025-01-08T16:30:07.682395Z",
     "iopub.status.idle": "2025-01-08T16:30:07.685603Z",
     "shell.execute_reply": "2025-01-08T16:30:07.685247Z"
    }
   },
   "outputs": [],
   "source": [
    "# Equivalent of `ncdump -h`\n",
    "r.what()"
   ]
  },
  {
   "cell_type": "markdown",
   "metadata": {},
   "source": [
    "## Specify non-trivial variables for grid"
   ]
  },
  {
   "cell_type": "markdown",
   "metadata": {},
   "source": [
    "Genuinely, this line:\n",
    "\n",
    "`r.readfield('psl')`\n",
    "\n",
    "would result in the following error:\n",
    "\n",
    "`# [2021/01/19-18:59:55][epygram.formats.netCDF][find_grid_in_variables:0459][ERROR]: unable to find X_grid in variables. Please specify with readfield() argument adhoc_behaviour={'X_grid':'name_of_the_variable'} for instance or my_resource.behave(X_grid='name_of_the_variable')`\n"
   ]
  },
  {
   "cell_type": "code",
   "execution_count": null,
   "metadata": {
    "execution": {
     "iopub.execute_input": "2025-01-08T16:30:07.687474Z",
     "iopub.status.busy": "2025-01-08T16:30:07.687296Z",
     "iopub.status.idle": "2025-01-08T16:30:07.696475Z",
     "shell.execute_reply": "2025-01-08T16:30:07.696164Z"
    }
   },
   "outputs": [],
   "source": [
    "# Hence we need to specify grids\n",
    "# just for this read\n",
    "f = r.readfield('psl', adhoc_behaviour={'X_grid':'nav_lon', 'Y_grid':'nav_lat'})\n",
    "# or for the whole runtime\n",
    "r.behave(X_grid='nav_lon', Y_grid='nav_lat')\n",
    "f = r.readfield('psl')"
   ]
  },
  {
   "cell_type": "code",
   "execution_count": null,
   "metadata": {
    "execution": {
     "iopub.execute_input": "2025-01-08T16:30:07.698053Z",
     "iopub.status.busy": "2025-01-08T16:30:07.697862Z",
     "iopub.status.idle": "2025-01-08T16:30:07.700499Z",
     "shell.execute_reply": "2025-01-08T16:30:07.700124Z"
    }
   },
   "outputs": [],
   "source": [
    "print(f.validity)"
   ]
  },
  {
   "cell_type": "markdown",
   "metadata": {},
   "source": [
    "## Read only a single index of the data"
   ]
  },
  {
   "cell_type": "code",
   "execution_count": null,
   "metadata": {
    "execution": {
     "iopub.execute_input": "2025-01-08T16:30:07.702492Z",
     "iopub.status.busy": "2025-01-08T16:30:07.702187Z",
     "iopub.status.idle": "2025-01-08T16:30:07.707186Z",
     "shell.execute_reply": "2025-01-08T16:30:07.706872Z"
    }
   },
   "outputs": [],
   "source": [
    "f = r.readfield('psl', only={'time_counter':0})"
   ]
  },
  {
   "cell_type": "code",
   "execution_count": null,
   "metadata": {
    "execution": {
     "iopub.execute_input": "2025-01-08T16:30:07.708929Z",
     "iopub.status.busy": "2025-01-08T16:30:07.708671Z",
     "iopub.status.idle": "2025-01-08T16:30:07.710873Z",
     "shell.execute_reply": "2025-01-08T16:30:07.710528Z"
    }
   },
   "outputs": [],
   "source": [
    "print(f.validity)"
   ]
  },
  {
   "cell_type": "code",
   "execution_count": null,
   "metadata": {},
   "outputs": [],
   "source": []
  }
 ],
 "metadata": {
  "kernelspec": {
   "display_name": "Python 3",
   "language": "python",
   "name": "python3"
  },
  "language_info": {
   "codemirror_mode": {
    "name": "ipython",
    "version": 3
   },
   "file_extension": ".py",
   "mimetype": "text/x-python",
   "name": "python",
   "nbconvert_exporter": "python",
   "pygments_lexer": "ipython3",
   "version": "3.10.12"
  }
 },
 "nbformat": 4,
 "nbformat_minor": 1
}
