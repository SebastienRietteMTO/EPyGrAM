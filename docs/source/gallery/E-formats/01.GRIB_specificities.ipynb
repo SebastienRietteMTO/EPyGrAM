{
 "cells": [
  {
   "cell_type": "markdown",
   "metadata": {},
   "source": [
    "# GRIB specificities"
   ]
  },
  {
   "cell_type": "code",
   "execution_count": null,
   "metadata": {
    "execution": {
     "iopub.execute_input": "2025-01-08T16:30:02.811197Z",
     "iopub.status.busy": "2025-01-08T16:30:02.810674Z",
     "iopub.status.idle": "2025-01-08T16:30:03.351489Z",
     "shell.execute_reply": "2025-01-08T16:30:03.351010Z"
    }
   },
   "outputs": [],
   "source": [
    "%matplotlib inline\n",
    "# for figures in notebook\n",
    "\n",
    "# import & initialize epygram\n",
    "import epygram\n",
    "epygram.init_env()\n",
    "\n",
    "import os\n",
    "INPUTS_DIR = os.path.join('..', 'inputs')"
   ]
  },
  {
   "cell_type": "code",
   "execution_count": null,
   "metadata": {
    "execution": {
     "iopub.execute_input": "2025-01-08T16:30:03.353624Z",
     "iopub.status.busy": "2025-01-08T16:30:03.353385Z",
     "iopub.status.idle": "2025-01-08T16:30:03.467044Z",
     "shell.execute_reply": "2025-01-08T16:30:03.466561Z"
    }
   },
   "outputs": [],
   "source": [
    "r = epygram.open(os.path.join(INPUTS_DIR, 'grid.arome-forecast.guyane0025+0000:00.grib'), 'r')"
   ]
  },
  {
   "cell_type": "markdown",
   "metadata": {},
   "source": [
    "### Several ways of iterating over all fields/messages"
   ]
  },
  {
   "cell_type": "code",
   "execution_count": null,
   "metadata": {
    "execution": {
     "iopub.execute_input": "2025-01-08T16:30:03.468987Z",
     "iopub.status.busy": "2025-01-08T16:30:03.468819Z",
     "iopub.status.idle": "2025-01-08T16:30:04.746209Z",
     "shell.execute_reply": "2025-01-08T16:30:04.745646Z"
    }
   },
   "outputs": [],
   "source": [
    "# Actual iterator, returns H2DField's\n",
    "n = 0\n",
    "for f in r:\n",
    "    n += 1\n",
    "print(n)"
   ]
  },
  {
   "cell_type": "code",
   "execution_count": null,
   "metadata": {
    "execution": {
     "iopub.execute_input": "2025-01-08T16:30:04.748240Z",
     "iopub.status.busy": "2025-01-08T16:30:04.748051Z",
     "iopub.status.idle": "2025-01-08T16:30:04.751436Z",
     "shell.execute_reply": "2025-01-08T16:30:04.750917Z"
    }
   },
   "outputs": [],
   "source": [
    "# Manual iteration on fields\n",
    "n = 0\n",
    "while True:\n",
    "    f = r.iter_fields()\n",
    "    if f is None:\n",
    "        break\n",
    "    elif n == 0:\n",
    "        print(type(f))\n",
    "    n += 1\n",
    "print(n)"
   ]
  },
  {
   "cell_type": "code",
   "execution_count": null,
   "metadata": {
    "execution": {
     "iopub.execute_input": "2025-01-08T16:30:04.753255Z",
     "iopub.status.busy": "2025-01-08T16:30:04.753073Z",
     "iopub.status.idle": "2025-01-08T16:30:04.877558Z",
     "shell.execute_reply": "2025-01-08T16:30:04.877093Z"
    }
   },
   "outputs": [],
   "source": [
    "# Manual iterator on messages; returns epygram.formats.GRIB.GRIBmessage objects, i.e. data is not decoded\n",
    "n = 0\n",
    "while True:\n",
    "    m = r.iter_messages()\n",
    "    if m is None:\n",
    "        break\n",
    "    elif n == 0:\n",
    "        print(type(m))\n",
    "    n += 1\n",
    "print(n)"
   ]
  },
  {
   "cell_type": "code",
   "execution_count": null,
   "metadata": {
    "execution": {
     "iopub.execute_input": "2025-01-08T16:30:04.879318Z",
     "iopub.status.busy": "2025-01-08T16:30:04.879124Z",
     "iopub.status.idle": "2025-01-08T16:30:04.886109Z",
     "shell.execute_reply": "2025-01-08T16:30:04.885701Z"
    }
   },
   "outputs": [],
   "source": [
    "# Pick message at a certain index\n",
    "m = r.get_message_at_position(15)\n",
    "print(type(m))"
   ]
  },
  {
   "cell_type": "code",
   "execution_count": null,
   "metadata": {
    "execution": {
     "iopub.execute_input": "2025-01-08T16:30:04.887959Z",
     "iopub.status.busy": "2025-01-08T16:30:04.887701Z",
     "iopub.status.idle": "2025-01-08T16:30:05.058586Z",
     "shell.execute_reply": "2025-01-08T16:30:05.058183Z"
    }
   },
   "outputs": [],
   "source": [
    "# in a GRIBmessage, GRIB key/values are read only when requested one by one,\n",
    "print(list(m.keys()))\n",
    "print('centre', m.get('centre'))\n",
    "print('typeOfProcessedData', m['typeOfProcessedData'])\n",
    "print(list(m.keys()))\n",
    "# or if the whole message is requested to be read\n",
    "m.readmessage()\n",
    "print(list(m.keys())[:10])"
   ]
  },
  {
   "cell_type": "code",
   "execution_count": null,
   "metadata": {
    "execution": {
     "iopub.execute_input": "2025-01-08T16:30:05.060489Z",
     "iopub.status.busy": "2025-01-08T16:30:05.060300Z",
     "iopub.status.idle": "2025-01-08T16:30:05.064022Z",
     "shell.execute_reply": "2025-01-08T16:30:05.063545Z"
    }
   },
   "outputs": [],
   "source": [
    "# Message can then be transformed into epygram H2DField\n",
    "f = m.as_field()\n",
    "print(type(f))"
   ]
  },
  {
   "cell_type": "code",
   "execution_count": null,
   "metadata": {
    "execution": {
     "iopub.execute_input": "2025-01-08T16:30:05.065793Z",
     "iopub.status.busy": "2025-01-08T16:30:05.065510Z",
     "iopub.status.idle": "2025-01-08T16:30:05.328243Z",
     "shell.execute_reply": "2025-01-08T16:30:05.327740Z"
    }
   },
   "outputs": [],
   "source": [
    "# And to find what are the fields present with a partial filter\n",
    "r.find_fields_in_resource('shortName:2t')"
   ]
  },
  {
   "cell_type": "code",
   "execution_count": null,
   "metadata": {},
   "outputs": [],
   "source": []
  }
 ],
 "metadata": {
  "kernelspec": {
   "display_name": "Python 3",
   "language": "python",
   "name": "python3"
  },
  "language_info": {
   "codemirror_mode": {
    "name": "ipython",
    "version": 3
   },
   "file_extension": ".py",
   "mimetype": "text/x-python",
   "name": "python",
   "nbconvert_exporter": "python",
   "pygments_lexer": "ipython3",
   "version": "3.10.12"
  }
 },
 "nbformat": 4,
 "nbformat_minor": 1
}
