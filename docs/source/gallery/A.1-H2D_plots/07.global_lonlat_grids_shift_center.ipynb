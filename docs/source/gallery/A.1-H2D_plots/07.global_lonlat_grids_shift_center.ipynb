{
 "cells": [
  {
   "cell_type": "markdown",
   "metadata": {},
   "source": [
    "# Global lon/lat grids: shift center"
   ]
  },
  {
   "cell_type": "code",
   "execution_count": null,
   "metadata": {
    "execution": {
     "iopub.execute_input": "2025-01-08T16:25:21.879016Z",
     "iopub.status.busy": "2025-01-08T16:25:21.878365Z",
     "iopub.status.idle": "2025-01-08T16:25:22.409495Z",
     "shell.execute_reply": "2025-01-08T16:25:22.409004Z"
    }
   },
   "outputs": [],
   "source": [
    "%matplotlib inline\n",
    "# for figures in notebook\n",
    "\n",
    "# import & initialize epygram\n",
    "import epygram\n",
    "epygram.init_env()\n",
    "\n",
    "import os\n",
    "INPUTS_DIR = os.path.join('..', 'inputs')"
   ]
  },
  {
   "cell_type": "code",
   "execution_count": null,
   "metadata": {
    "execution": {
     "iopub.execute_input": "2025-01-08T16:25:22.412134Z",
     "iopub.status.busy": "2025-01-08T16:25:22.411454Z",
     "iopub.status.idle": "2025-01-08T16:25:22.431440Z",
     "shell.execute_reply": "2025-01-08T16:25:22.431026Z"
    }
   },
   "outputs": [],
   "source": [
    "r = epygram.open(os.path.join(INPUTS_DIR, 'glob01.grib'), 'r')"
   ]
  },
  {
   "cell_type": "code",
   "execution_count": null,
   "metadata": {
    "execution": {
     "iopub.execute_input": "2025-01-08T16:25:22.433102Z",
     "iopub.status.busy": "2025-01-08T16:25:22.432936Z",
     "iopub.status.idle": "2025-01-08T16:25:22.582487Z",
     "shell.execute_reply": "2025-01-08T16:25:22.581983Z"
    }
   },
   "outputs": [],
   "source": [
    "f = r.readfield('shortName:prmsl')"
   ]
  },
  {
   "cell_type": "code",
   "execution_count": null,
   "metadata": {
    "execution": {
     "iopub.execute_input": "2025-01-08T16:25:22.584688Z",
     "iopub.status.busy": "2025-01-08T16:25:22.584451Z",
     "iopub.status.idle": "2025-01-08T16:25:33.454139Z",
     "shell.execute_reply": "2025-01-08T16:25:33.453652Z"
    }
   },
   "outputs": [],
   "source": [
    "fig, ax = f.cartoplot()"
   ]
  },
  {
   "cell_type": "code",
   "execution_count": null,
   "metadata": {
    "execution": {
     "iopub.execute_input": "2025-01-08T16:25:33.459522Z",
     "iopub.status.busy": "2025-01-08T16:25:33.459370Z",
     "iopub.status.idle": "2025-01-08T16:25:43.986741Z",
     "shell.execute_reply": "2025-01-08T16:25:43.986168Z"
    }
   },
   "outputs": [],
   "source": [
    "f.global_shift_center(180)\n",
    "fig, ax = f.cartoplot()"
   ]
  },
  {
   "cell_type": "code",
   "execution_count": null,
   "metadata": {},
   "outputs": [],
   "source": []
  }
 ],
 "metadata": {
  "kernelspec": {
   "display_name": "Python 3",
   "language": "python",
   "name": "python3"
  },
  "language_info": {
   "codemirror_mode": {
    "name": "ipython",
    "version": 3
   },
   "file_extension": ".py",
   "mimetype": "text/x-python",
   "name": "python",
   "nbconvert_exporter": "python",
   "pygments_lexer": "ipython3",
   "version": "3.10.12"
  }
 },
 "nbformat": 4,
 "nbformat_minor": 2
}
