{
 "cells": [
  {
   "cell_type": "markdown",
   "metadata": {},
   "source": [
    "# Plotting wind: barbs, wind speed"
   ]
  },
  {
   "cell_type": "code",
   "execution_count": null,
   "metadata": {
    "execution": {
     "iopub.execute_input": "2025-01-08T16:25:51.181175Z",
     "iopub.status.busy": "2025-01-08T16:25:51.180684Z",
     "iopub.status.idle": "2025-01-08T16:25:51.710938Z",
     "shell.execute_reply": "2025-01-08T16:25:51.710367Z"
    }
   },
   "outputs": [],
   "source": [
    "%matplotlib inline\n",
    "# for figures in notebook\n",
    "\n",
    "# import & initialize epygram\n",
    "import epygram\n",
    "epygram.init_env()\n",
    "\n",
    "import os\n",
    "INPUTS_DIR = os.path.join('..', 'inputs')"
   ]
  },
  {
   "cell_type": "code",
   "execution_count": null,
   "metadata": {
    "execution": {
     "iopub.execute_input": "2025-01-08T16:25:51.713312Z",
     "iopub.status.busy": "2025-01-08T16:25:51.713106Z",
     "iopub.status.idle": "2025-01-08T16:25:51.859490Z",
     "shell.execute_reply": "2025-01-08T16:25:51.859044Z"
    }
   },
   "outputs": [],
   "source": [
    "r = epygram.open(os.path.join(INPUTS_DIR, 'ICMSHAROM+0022'), 'r')"
   ]
  },
  {
   "cell_type": "code",
   "execution_count": null,
   "metadata": {
    "execution": {
     "iopub.execute_input": "2025-01-08T16:25:51.861541Z",
     "iopub.status.busy": "2025-01-08T16:25:51.861350Z",
     "iopub.status.idle": "2025-01-08T16:25:51.923021Z",
     "shell.execute_reply": "2025-01-08T16:25:51.922672Z"
    }
   },
   "outputs": [],
   "source": [
    "u = r.readfield('CLSVENT.ZONAL')\n",
    "v = r.readfield('CLSVENT.MERIDIEN')\n",
    "uv = epygram.fields.make_vector_field(u,v)"
   ]
  },
  {
   "cell_type": "code",
   "execution_count": null,
   "metadata": {
    "execution": {
     "iopub.execute_input": "2025-01-08T16:25:51.924829Z",
     "iopub.status.busy": "2025-01-08T16:25:51.924635Z",
     "iopub.status.idle": "2025-01-08T16:25:52.522473Z",
     "shell.execute_reply": "2025-01-08T16:25:52.521840Z"
    }
   },
   "outputs": [],
   "source": [
    "fig, ax = uv.cartoplot(subsampling=10, vector_plot_method='barbs', subzone='CI',\n",
    "                       # ! user got to know the very nature of the field he is plotting:\n",
    "                       components_are_projected_on='lonlat',\n",
    "                       map_factor_correction=False)"
   ]
  },
  {
   "cell_type": "code",
   "execution_count": null,
   "metadata": {
    "execution": {
     "iopub.execute_input": "2025-01-08T16:25:52.525880Z",
     "iopub.status.busy": "2025-01-08T16:25:52.525678Z",
     "iopub.status.idle": "2025-01-08T16:25:52.767217Z",
     "shell.execute_reply": "2025-01-08T16:25:52.766705Z"
    }
   },
   "outputs": [],
   "source": [
    "# or if you don't want wind speed:\n",
    "fig, ax = uv.cartoplot(subsampling=10, vector_plot_method='barbs', subzone='CI',\n",
    "                       # ! user got to know the very nature of the field he is plotting:\n",
    "                       components_are_projected_on='lonlat',\n",
    "                       plot_method=None)"
   ]
  },
  {
   "cell_type": "code",
   "execution_count": null,
   "metadata": {
    "execution": {
     "iopub.execute_input": "2025-01-08T16:25:52.769765Z",
     "iopub.status.busy": "2025-01-08T16:25:52.769617Z",
     "iopub.status.idle": "2025-01-08T16:25:53.086232Z",
     "shell.execute_reply": "2025-01-08T16:25:53.085765Z"
    }
   },
   "outputs": [],
   "source": [
    "# or if you want to plot module only:\n",
    "ff = uv.to_module()\n",
    "fig, ax = ff.cartoplot(subzone='CI')"
   ]
  },
  {
   "cell_type": "code",
   "execution_count": null,
   "metadata": {},
   "outputs": [],
   "source": []
  }
 ],
 "metadata": {
  "kernelspec": {
   "display_name": "Python 3",
   "language": "python",
   "name": "python3"
  },
  "language_info": {
   "codemirror_mode": {
    "name": "ipython",
    "version": 3
   },
   "file_extension": ".py",
   "mimetype": "text/x-python",
   "name": "python",
   "nbconvert_exporter": "python",
   "pygments_lexer": "ipython3",
   "version": "3.10.12"
  }
 },
 "nbformat": 4,
 "nbformat_minor": 2
}
