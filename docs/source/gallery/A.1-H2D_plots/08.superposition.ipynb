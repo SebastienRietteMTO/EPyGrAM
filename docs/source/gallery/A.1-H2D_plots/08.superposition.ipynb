{
 "cells": [
  {
   "cell_type": "markdown",
   "metadata": {},
   "source": [
    "# Superposition of 2 fields"
   ]
  },
  {
   "cell_type": "code",
   "execution_count": null,
   "metadata": {
    "execution": {
     "iopub.execute_input": "2025-01-08T16:25:45.823406Z",
     "iopub.status.busy": "2025-01-08T16:25:45.822926Z",
     "iopub.status.idle": "2025-01-08T16:25:46.348030Z",
     "shell.execute_reply": "2025-01-08T16:25:46.347426Z"
    }
   },
   "outputs": [],
   "source": [
    "%matplotlib inline\n",
    "# for figures in notebook\n",
    "\n",
    "# import & initialize epygram\n",
    "import epygram\n",
    "epygram.init_env()\n",
    "\n",
    "import os\n",
    "INPUTS_DIR = os.path.join('..', 'inputs')"
   ]
  },
  {
   "cell_type": "code",
   "execution_count": null,
   "metadata": {
    "execution": {
     "iopub.execute_input": "2025-01-08T16:25:46.350236Z",
     "iopub.status.busy": "2025-01-08T16:25:46.350005Z",
     "iopub.status.idle": "2025-01-08T16:25:46.495744Z",
     "shell.execute_reply": "2025-01-08T16:25:46.495251Z"
    }
   },
   "outputs": [],
   "source": [
    "r = epygram.open(os.path.join(INPUTS_DIR, 'ICMSHAROM+0022'), 'r')"
   ]
  },
  {
   "cell_type": "code",
   "execution_count": null,
   "metadata": {
    "execution": {
     "iopub.execute_input": "2025-01-08T16:25:46.497891Z",
     "iopub.status.busy": "2025-01-08T16:25:46.497712Z",
     "iopub.status.idle": "2025-01-08T16:25:48.546263Z",
     "shell.execute_reply": "2025-01-08T16:25:48.545660Z"
    }
   },
   "outputs": [],
   "source": [
    "ps = r.readfield('SURFPRESSION')\n",
    "ps.sp2gp()\n",
    "rain = r.readfield('SURFACCPLUIE')"
   ]
  },
  {
   "cell_type": "code",
   "execution_count": null,
   "metadata": {
    "execution": {
     "iopub.execute_input": "2025-01-08T16:25:48.548360Z",
     "iopub.status.busy": "2025-01-08T16:25:48.548163Z",
     "iopub.status.idle": "2025-01-08T16:25:49.271508Z",
     "shell.execute_reply": "2025-01-08T16:25:49.271114Z"
    }
   },
   "outputs": [],
   "source": [
    "fig, ax = ps.cartoplot(plot_method='contour', colorsnumber=5, contourcolor='green')\n",
    "fig, ax = rain.cartoplot(fig=fig, ax=ax, colormap='rr1h')"
   ]
  }
 ],
 "metadata": {
  "kernelspec": {
   "display_name": "Python 3",
   "language": "python",
   "name": "python3"
  },
  "language_info": {
   "codemirror_mode": {
    "name": "ipython",
    "version": 3
   },
   "file_extension": ".py",
   "mimetype": "text/x-python",
   "name": "python",
   "nbconvert_exporter": "python",
   "pygments_lexer": "ipython3",
   "version": "3.10.12"
  }
 },
 "nbformat": 4,
 "nbformat_minor": 2
}
