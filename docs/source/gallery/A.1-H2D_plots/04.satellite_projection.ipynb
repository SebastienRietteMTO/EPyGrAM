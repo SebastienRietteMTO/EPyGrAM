{
 "cells": [
  {
   "cell_type": "markdown",
   "metadata": {},
   "source": [
    "# Projection of the plot: satellite view"
   ]
  },
  {
   "cell_type": "code",
   "execution_count": null,
   "metadata": {
    "execution": {
     "iopub.execute_input": "2025-01-08T16:25:06.452056Z",
     "iopub.status.busy": "2025-01-08T16:25:06.451562Z",
     "iopub.status.idle": "2025-01-08T16:25:06.986532Z",
     "shell.execute_reply": "2025-01-08T16:25:06.986047Z"
    }
   },
   "outputs": [],
   "source": [
    "%matplotlib inline\n",
    "# for figures in notebook\n",
    "\n",
    "# import & initialize epygram\n",
    "import epygram\n",
    "epygram.init_env()\n",
    "\n",
    "import os\n",
    "INPUTS_DIR = os.path.join('..', 'inputs')"
   ]
  },
  {
   "cell_type": "code",
   "execution_count": null,
   "metadata": {
    "execution": {
     "iopub.execute_input": "2025-01-08T16:25:06.988789Z",
     "iopub.status.busy": "2025-01-08T16:25:06.988537Z",
     "iopub.status.idle": "2025-01-08T16:25:07.105679Z",
     "shell.execute_reply": "2025-01-08T16:25:07.105195Z"
    }
   },
   "outputs": [],
   "source": [
    "r = epygram.open(os.path.join(INPUTS_DIR, 'grid.arome-forecast.guyane0025+0012:00.grib'), 'r')"
   ]
  },
  {
   "cell_type": "code",
   "execution_count": null,
   "metadata": {
    "execution": {
     "iopub.execute_input": "2025-01-08T16:25:07.107757Z",
     "iopub.status.busy": "2025-01-08T16:25:07.107574Z",
     "iopub.status.idle": "2025-01-08T16:25:07.408139Z",
     "shell.execute_reply": "2025-01-08T16:25:07.407652Z"
    }
   },
   "outputs": [],
   "source": [
    "f = r.readfield('shortName:2r')"
   ]
  },
  {
   "cell_type": "code",
   "execution_count": null,
   "metadata": {
    "execution": {
     "iopub.execute_input": "2025-01-08T16:25:07.410251Z",
     "iopub.status.busy": "2025-01-08T16:25:07.410030Z",
     "iopub.status.idle": "2025-01-08T16:25:08.537377Z",
     "shell.execute_reply": "2025-01-08T16:25:08.536975Z"
    }
   },
   "outputs": [],
   "source": [
    "from cartopy.crs import NearsidePerspective\n",
    "proj = NearsidePerspective(central_longitude=-60.,\n",
    "                           central_latitude=10.,\n",
    "                           satellite_height=1e6)\n",
    "fig, ax = f.cartoplot(projection=proj, extent='global', colormap='viridis_r')"
   ]
  },
  {
   "cell_type": "code",
   "execution_count": null,
   "metadata": {},
   "outputs": [],
   "source": []
  }
 ],
 "metadata": {
  "kernelspec": {
   "display_name": "Python 3",
   "language": "python",
   "name": "python3"
  },
  "language_info": {
   "codemirror_mode": {
    "name": "ipython",
    "version": 3
   },
   "file_extension": ".py",
   "mimetype": "text/x-python",
   "name": "python",
   "nbconvert_exporter": "python",
   "pygments_lexer": "ipython3",
   "version": "3.10.12"
  }
 },
 "nbformat": 4,
 "nbformat_minor": 2
}
