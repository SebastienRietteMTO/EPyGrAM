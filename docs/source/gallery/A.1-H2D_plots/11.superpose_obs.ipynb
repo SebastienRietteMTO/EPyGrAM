{
 "cells": [
  {
   "cell_type": "markdown",
   "metadata": {},
   "source": [
    "# Superpose an observation point on a H2D plot"
   ]
  },
  {
   "cell_type": "code",
   "execution_count": null,
   "metadata": {
    "execution": {
     "iopub.execute_input": "2025-01-08T16:25:58.276068Z",
     "iopub.status.busy": "2025-01-08T16:25:58.275879Z",
     "iopub.status.idle": "2025-01-08T16:25:58.806802Z",
     "shell.execute_reply": "2025-01-08T16:25:58.806419Z"
    }
   },
   "outputs": [],
   "source": [
    "%matplotlib inline\n",
    "# for figures in notebook\n",
    "\n",
    "# import & initialize epygram\n",
    "import epygram\n",
    "epygram.init_env()\n",
    "\n",
    "import os\n",
    "INPUTS_DIR = os.path.join('..', 'inputs')"
   ]
  },
  {
   "cell_type": "code",
   "execution_count": null,
   "metadata": {
    "execution": {
     "iopub.execute_input": "2025-01-08T16:25:58.809022Z",
     "iopub.status.busy": "2025-01-08T16:25:58.808815Z",
     "iopub.status.idle": "2025-01-08T16:25:58.922786Z",
     "shell.execute_reply": "2025-01-08T16:25:58.922290Z"
    }
   },
   "outputs": [],
   "source": [
    "r = epygram.open(os.path.join(INPUTS_DIR, 'grid.arome-forecast.guyane0025+0024:00.grib'), 'r')"
   ]
  },
  {
   "cell_type": "code",
   "execution_count": null,
   "metadata": {
    "execution": {
     "iopub.execute_input": "2025-01-08T16:25:58.924787Z",
     "iopub.status.busy": "2025-01-08T16:25:58.924582Z",
     "iopub.status.idle": "2025-01-08T16:25:59.221873Z",
     "shell.execute_reply": "2025-01-08T16:25:59.221378Z"
    }
   },
   "outputs": [],
   "source": [
    "f = r.readfield('shortName:2r')"
   ]
  },
  {
   "cell_type": "code",
   "execution_count": null,
   "metadata": {
    "execution": {
     "iopub.execute_input": "2025-01-08T16:25:59.223948Z",
     "iopub.status.busy": "2025-01-08T16:25:59.223776Z",
     "iopub.status.idle": "2025-01-08T16:25:59.226669Z",
     "shell.execute_reply": "2025-01-08T16:25:59.226290Z"
    }
   },
   "outputs": [],
   "source": [
    "import cartopy.crs as ccrs\n",
    "lonlat_crs = ccrs.PlateCarree()\n",
    "station = (-52.6, 5.1)\n",
    "value = 60."
   ]
  },
  {
   "cell_type": "code",
   "execution_count": null,
   "metadata": {
    "execution": {
     "iopub.execute_input": "2025-01-08T16:25:59.228485Z",
     "iopub.status.busy": "2025-01-08T16:25:59.228322Z",
     "iopub.status.idle": "2025-01-08T16:25:59.978641Z",
     "shell.execute_reply": "2025-01-08T16:25:59.978233Z"
    }
   },
   "outputs": [],
   "source": [
    "fig, ax = f.cartoplot(colormap='viridis_r')\n",
    "x, y = ax.projection.transform_point(*station, lonlat_crs)\n",
    "ax.scatter(x, y, s=100, c='k')\n",
    "ax.text(x, y, ' Kourou', size=20)"
   ]
  },
  {
   "cell_type": "markdown",
   "metadata": {},
   "source": [
    "## Now if we want the color of the obs point to match the colormap of the field:"
   ]
  },
  {
   "cell_type": "code",
   "execution_count": null,
   "metadata": {
    "execution": {
     "iopub.execute_input": "2025-01-08T16:25:59.981665Z",
     "iopub.status.busy": "2025-01-08T16:25:59.981426Z",
     "iopub.status.idle": "2025-01-08T16:25:59.984013Z",
     "shell.execute_reply": "2025-01-08T16:25:59.983654Z"
    }
   },
   "outputs": [],
   "source": [
    "# for that we need arrays\n",
    "import numpy as np\n",
    "lons = np.array([station[0]])\n",
    "lats = np.array([station[1]])\n",
    "values = np.array([value])"
   ]
  },
  {
   "cell_type": "code",
   "execution_count": null,
   "metadata": {
    "execution": {
     "iopub.execute_input": "2025-01-08T16:25:59.985829Z",
     "iopub.status.busy": "2025-01-08T16:25:59.985630Z",
     "iopub.status.idle": "2025-01-08T16:26:00.457788Z",
     "shell.execute_reply": "2025-01-08T16:26:00.457303Z"
    }
   },
   "outputs": [],
   "source": [
    "fig, ax = f.cartoplot(colormap='viridis_r')\n",
    "xyz = ax.projection.transform_points(lonlat_crs, lons, lats)\n",
    "x = xyz[..., 0]\n",
    "y = xyz[..., 1]\n",
    "ax.scatter(x, y, s=100, c=values, cmap='viridis_r',\n",
    "           vmin=f.data.min(), vmax=f.data.max())"
   ]
  },
  {
   "cell_type": "markdown",
   "metadata": {},
   "source": [
    "## And now if the colormap is complex and needs a ColormapHelper to handle:"
   ]
  },
  {
   "cell_type": "code",
   "execution_count": null,
   "metadata": {
    "execution": {
     "iopub.execute_input": "2025-01-08T16:26:00.460504Z",
     "iopub.status.busy": "2025-01-08T16:26:00.460300Z",
     "iopub.status.idle": "2025-01-08T16:26:01.068915Z",
     "shell.execute_reply": "2025-01-08T16:26:01.068390Z"
    }
   },
   "outputs": [],
   "source": [
    "f = r.readfield('parameterCategory:1,parameterNumber:19,typeOfStatisticalProcessing:0')\n",
    "values = np.array([12])  # the red color in colormap\n",
    "fig, ax = f.cartoplot(colormap='ptype')\n",
    "ch = epygram.colormapping.get_ColormapHelper('ptype')\n",
    "ax.scatter(x, y, s=100, c=values, **ch.kwargs_for_plot('scatter'))"
   ]
  },
  {
   "cell_type": "code",
   "execution_count": null,
   "metadata": {},
   "outputs": [],
   "source": []
  }
 ],
 "metadata": {
  "kernelspec": {
   "display_name": "Python 3",
   "language": "python",
   "name": "python3"
  },
  "language_info": {
   "codemirror_mode": {
    "name": "ipython",
    "version": 3
   },
   "file_extension": ".py",
   "mimetype": "text/x-python",
   "name": "python",
   "nbconvert_exporter": "python",
   "pygments_lexer": "ipython3",
   "version": "3.10.12"
  }
 },
 "nbformat": 4,
 "nbformat_minor": 2
}
