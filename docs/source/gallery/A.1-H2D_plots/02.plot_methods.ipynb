{
 "cells": [
  {
   "cell_type": "markdown",
   "metadata": {},
   "source": [
    "# Plotting methods: cf. matplotlib's according methods and doc"
   ]
  },
  {
   "cell_type": "code",
   "execution_count": null,
   "metadata": {
    "execution": {
     "iopub.execute_input": "2025-01-08T16:24:58.920631Z",
     "iopub.status.busy": "2025-01-08T16:24:58.920122Z",
     "iopub.status.idle": "2025-01-08T16:24:59.445142Z",
     "shell.execute_reply": "2025-01-08T16:24:59.444655Z"
    }
   },
   "outputs": [],
   "source": [
    "%matplotlib inline\n",
    "# for figures in notebook\n",
    "\n",
    "# import & initialize epygram\n",
    "import epygram\n",
    "epygram.init_env()\n",
    "\n",
    "import os\n",
    "INPUTS_DIR = os.path.join('..', 'inputs')"
   ]
  },
  {
   "cell_type": "code",
   "execution_count": null,
   "metadata": {
    "execution": {
     "iopub.execute_input": "2025-01-08T16:24:59.447363Z",
     "iopub.status.busy": "2025-01-08T16:24:59.447110Z",
     "iopub.status.idle": "2025-01-08T16:24:59.567804Z",
     "shell.execute_reply": "2025-01-08T16:24:59.567316Z"
    }
   },
   "outputs": [],
   "source": [
    "# open resource in read mode\n",
    "r = epygram.open(os.path.join(INPUTS_DIR, 'ic.full-surfex.corsica-02km50.fa'), 'r')"
   ]
  },
  {
   "cell_type": "code",
   "execution_count": null,
   "metadata": {
    "execution": {
     "iopub.execute_input": "2025-01-08T16:24:59.569898Z",
     "iopub.status.busy": "2025-01-08T16:24:59.569712Z",
     "iopub.status.idle": "2025-01-08T16:24:59.614993Z",
     "shell.execute_reply": "2025-01-08T16:24:59.614543Z"
    }
   },
   "outputs": [],
   "source": [
    "f = r.readfield('X001TG1')"
   ]
  },
  {
   "cell_type": "code",
   "execution_count": null,
   "metadata": {
    "execution": {
     "iopub.execute_input": "2025-01-08T16:24:59.616703Z",
     "iopub.status.busy": "2025-01-08T16:24:59.616543Z",
     "iopub.status.idle": "2025-01-08T16:25:00.101151Z",
     "shell.execute_reply": "2025-01-08T16:25:00.100731Z"
    }
   },
   "outputs": [],
   "source": [
    "fig, ax = f.cartoplot(plot_method='pcolormesh')"
   ]
  },
  {
   "cell_type": "code",
   "execution_count": null,
   "metadata": {
    "execution": {
     "iopub.execute_input": "2025-01-08T16:25:00.103362Z",
     "iopub.status.busy": "2025-01-08T16:25:00.103000Z",
     "iopub.status.idle": "2025-01-08T16:25:00.399349Z",
     "shell.execute_reply": "2025-01-08T16:25:00.398842Z"
    }
   },
   "outputs": [],
   "source": [
    "fig, ax = f.cartoplot(plot_method='contourf')"
   ]
  },
  {
   "cell_type": "code",
   "execution_count": null,
   "metadata": {
    "execution": {
     "iopub.execute_input": "2025-01-08T16:25:00.401354Z",
     "iopub.status.busy": "2025-01-08T16:25:00.401194Z",
     "iopub.status.idle": "2025-01-08T16:25:00.647504Z",
     "shell.execute_reply": "2025-01-08T16:25:00.647013Z"
    }
   },
   "outputs": [],
   "source": [
    "fig, ax = f.cartoplot(plot_method='contour')"
   ]
  },
  {
   "cell_type": "code",
   "execution_count": null,
   "metadata": {
    "execution": {
     "iopub.execute_input": "2025-01-08T16:25:00.649901Z",
     "iopub.status.busy": "2025-01-08T16:25:00.649750Z",
     "iopub.status.idle": "2025-01-08T16:25:00.962210Z",
     "shell.execute_reply": "2025-01-08T16:25:00.961749Z"
    }
   },
   "outputs": [],
   "source": [
    "fig, ax = f.cartoplot(plot_method='scatter')"
   ]
  },
  {
   "cell_type": "code",
   "execution_count": null,
   "metadata": {},
   "outputs": [],
   "source": []
  }
 ],
 "metadata": {
  "kernelspec": {
   "display_name": "Python 3 (ipykernel)",
   "language": "python",
   "name": "python3"
  },
  "language_info": {
   "codemirror_mode": {
    "name": "ipython",
    "version": 3
   },
   "file_extension": ".py",
   "mimetype": "text/x-python",
   "name": "python",
   "nbconvert_exporter": "python",
   "pygments_lexer": "ipython3",
   "version": "3.10.12"
  }
 },
 "nbformat": 4,
 "nbformat_minor": 4
}
