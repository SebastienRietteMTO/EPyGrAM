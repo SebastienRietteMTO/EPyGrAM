{
 "cells": [
  {
   "cell_type": "markdown",
   "metadata": {},
   "source": [
    "# Customize parallels and meridians"
   ]
  },
  {
   "cell_type": "code",
   "execution_count": null,
   "metadata": {
    "execution": {
     "iopub.execute_input": "2025-01-08T16:25:18.061963Z",
     "iopub.status.busy": "2025-01-08T16:25:18.061437Z",
     "iopub.status.idle": "2025-01-08T16:25:18.583422Z",
     "shell.execute_reply": "2025-01-08T16:25:18.582937Z"
    }
   },
   "outputs": [],
   "source": [
    "%matplotlib inline\n",
    "# for figures in notebook\n",
    "\n",
    "# import & initialize epygram\n",
    "import epygram\n",
    "epygram.init_env()\n",
    "\n",
    "import os\n",
    "INPUTS_DIR = os.path.join('..', 'inputs')"
   ]
  },
  {
   "cell_type": "code",
   "execution_count": null,
   "metadata": {
    "execution": {
     "iopub.execute_input": "2025-01-08T16:25:18.585660Z",
     "iopub.status.busy": "2025-01-08T16:25:18.585439Z",
     "iopub.status.idle": "2025-01-08T16:25:18.725107Z",
     "shell.execute_reply": "2025-01-08T16:25:18.724497Z"
    }
   },
   "outputs": [],
   "source": [
    "r = epygram.open(os.path.join(INPUTS_DIR, 'analysis.full-arpege.tl149-c24.fa'), 'r')"
   ]
  },
  {
   "cell_type": "code",
   "execution_count": null,
   "metadata": {
    "execution": {
     "iopub.execute_input": "2025-01-08T16:25:18.727365Z",
     "iopub.status.busy": "2025-01-08T16:25:18.727128Z",
     "iopub.status.idle": "2025-01-08T16:25:18.792893Z",
     "shell.execute_reply": "2025-01-08T16:25:18.792353Z"
    }
   },
   "outputs": [],
   "source": [
    "f = r.readfield('SURFTEMPERATURE')"
   ]
  },
  {
   "cell_type": "code",
   "execution_count": null,
   "metadata": {
    "execution": {
     "iopub.execute_input": "2025-01-08T16:25:18.794608Z",
     "iopub.status.busy": "2025-01-08T16:25:18.794427Z",
     "iopub.status.idle": "2025-01-08T16:25:19.552734Z",
     "shell.execute_reply": "2025-01-08T16:25:19.552357Z"
    }
   },
   "outputs": [],
   "source": [
    "# No grid\n",
    "fig, ax = f.cartoplot(parallels=None, meridians=None)"
   ]
  },
  {
   "cell_type": "code",
   "execution_count": null,
   "metadata": {
    "execution": {
     "iopub.execute_input": "2025-01-08T16:25:19.555556Z",
     "iopub.status.busy": "2025-01-08T16:25:19.555359Z",
     "iopub.status.idle": "2025-01-08T16:25:20.074077Z",
     "shell.execute_reply": "2025-01-08T16:25:20.073536Z"
    }
   },
   "outputs": [],
   "source": [
    "# Customized\n",
    "fig, ax = f.cartoplot(parallels=[-66.56, -23.44, 0, 23.44, 66.56], meridians=20)"
   ]
  },
  {
   "cell_type": "code",
   "execution_count": null,
   "metadata": {},
   "outputs": [],
   "source": []
  }
 ],
 "metadata": {
  "kernelspec": {
   "display_name": "Python 3",
   "language": "python",
   "name": "python3"
  },
  "language_info": {
   "codemirror_mode": {
    "name": "ipython",
    "version": 3
   },
   "file_extension": ".py",
   "mimetype": "text/x-python",
   "name": "python",
   "nbconvert_exporter": "python",
   "pygments_lexer": "ipython3",
   "version": "3.10.12"
  }
 },
 "nbformat": 4,
 "nbformat_minor": 2
}
