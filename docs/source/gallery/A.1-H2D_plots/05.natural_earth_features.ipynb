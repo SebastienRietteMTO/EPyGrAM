{
 "cells": [
  {
   "cell_type": "markdown",
   "metadata": {},
   "source": [
    "# Add or remove NaturalEarth features\n",
    "cf. https://www.naturalearthdata.com/downloads"
   ]
  },
  {
   "cell_type": "code",
   "execution_count": null,
   "metadata": {
    "execution": {
     "iopub.execute_input": "2025-01-08T16:25:10.316420Z",
     "iopub.status.busy": "2025-01-08T16:25:10.315932Z",
     "iopub.status.idle": "2025-01-08T16:25:10.837048Z",
     "shell.execute_reply": "2025-01-08T16:25:10.836567Z"
    }
   },
   "outputs": [],
   "source": [
    "%matplotlib inline\n",
    "# for figures in notebook\n",
    "\n",
    "# import & initialize epygram\n",
    "import epygram\n",
    "epygram.init_env()\n",
    "\n",
    "import os\n",
    "INPUTS_DIR = os.path.join('..', 'inputs')"
   ]
  },
  {
   "cell_type": "code",
   "execution_count": null,
   "metadata": {
    "execution": {
     "iopub.execute_input": "2025-01-08T16:25:10.839232Z",
     "iopub.status.busy": "2025-01-08T16:25:10.838981Z",
     "iopub.status.idle": "2025-01-08T16:25:10.877267Z",
     "shell.execute_reply": "2025-01-08T16:25:10.876795Z"
    }
   },
   "outputs": [],
   "source": [
    "r = epygram.open(os.path.join(INPUTS_DIR, 'pgd.albachir-07km50.SAND.fa'), 'r')"
   ]
  },
  {
   "cell_type": "code",
   "execution_count": null,
   "metadata": {
    "execution": {
     "iopub.execute_input": "2025-01-08T16:25:10.879193Z",
     "iopub.status.busy": "2025-01-08T16:25:10.878987Z",
     "iopub.status.idle": "2025-01-08T16:25:10.924311Z",
     "shell.execute_reply": "2025-01-08T16:25:10.923873Z"
    }
   },
   "outputs": [],
   "source": [
    "f = r.readfield('SFX.SAND')"
   ]
  },
  {
   "cell_type": "code",
   "execution_count": null,
   "metadata": {
    "execution": {
     "iopub.execute_input": "2025-01-08T16:25:10.926032Z",
     "iopub.status.busy": "2025-01-08T16:25:10.925863Z",
     "iopub.status.idle": "2025-01-08T16:25:11.576358Z",
     "shell.execute_reply": "2025-01-08T16:25:11.575966Z"
    }
   },
   "outputs": [],
   "source": [
    "# no coastlines, no borders\n",
    "fig, ax = f.cartoplot(natural_earth_features=[])"
   ]
  },
  {
   "cell_type": "code",
   "execution_count": null,
   "metadata": {
    "execution": {
     "iopub.execute_input": "2025-01-08T16:25:11.579070Z",
     "iopub.status.busy": "2025-01-08T16:25:11.578882Z",
     "iopub.status.idle": "2025-01-08T16:25:16.047188Z",
     "shell.execute_reply": "2025-01-08T16:25:16.046698Z"
    }
   },
   "outputs": [],
   "source": [
    "import cartopy.feature as cfeature\n",
    "# no coastlines, no borders\n",
    "fig, ax = f.cartoplot(natural_earth_features=[])\n",
    "# coastlines\n",
    "ax.add_feature(cfeature.NaturalEarthFeature(category='physical',\n",
    "                                            name='coastline',\n",
    "                                            scale='10m',\n",
    "                                            facecolor='none',\n",
    "                                            edgecolor='k'))\n",
    "# roads\n",
    "ax.add_feature(cfeature.NaturalEarthFeature(category='cultural',\n",
    "                                            name='roads',\n",
    "                                            scale='10m',\n",
    "                                            facecolor='none',\n",
    "                                            edgecolor='r'))"
   ]
  },
  {
   "cell_type": "code",
   "execution_count": null,
   "metadata": {},
   "outputs": [],
   "source": []
  }
 ],
 "metadata": {
  "kernelspec": {
   "display_name": "Python 3",
   "language": "python",
   "name": "python3"
  },
  "language_info": {
   "codemirror_mode": {
    "name": "ipython",
    "version": 3
   },
   "file_extension": ".py",
   "mimetype": "text/x-python",
   "name": "python",
   "nbconvert_exporter": "python",
   "pygments_lexer": "ipython3",
   "version": "3.10.12"
  }
 },
 "nbformat": 4,
 "nbformat_minor": 2
}
