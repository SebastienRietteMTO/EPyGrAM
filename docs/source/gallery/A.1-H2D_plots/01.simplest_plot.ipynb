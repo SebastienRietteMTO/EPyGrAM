{
 "cells": [
  {
   "cell_type": "markdown",
   "metadata": {},
   "source": [
    "# Simplest plot, with auto-determined parameters"
   ]
  },
  {
   "cell_type": "code",
   "execution_count": null,
   "metadata": {
    "execution": {
     "iopub.execute_input": "2025-01-08T16:24:55.868261Z",
     "iopub.status.busy": "2025-01-08T16:24:55.867760Z",
     "iopub.status.idle": "2025-01-08T16:24:56.391210Z",
     "shell.execute_reply": "2025-01-08T16:24:56.390729Z"
    }
   },
   "outputs": [],
   "source": [
    "%matplotlib inline\n",
    "# for figures in notebook\n",
    "\n",
    "# import & initialize epygram\n",
    "import epygram\n",
    "epygram.init_env()\n",
    "\n",
    "import os\n",
    "INPUTS_DIR = os.path.join('..', 'inputs')"
   ]
  },
  {
   "cell_type": "code",
   "execution_count": null,
   "metadata": {
    "execution": {
     "iopub.execute_input": "2025-01-08T16:24:56.393414Z",
     "iopub.status.busy": "2025-01-08T16:24:56.393208Z",
     "iopub.status.idle": "2025-01-08T16:24:56.539003Z",
     "shell.execute_reply": "2025-01-08T16:24:56.538640Z"
    }
   },
   "outputs": [],
   "source": [
    "# open resource in read mode\n",
    "r = epygram.open(os.path.join(INPUTS_DIR, 'ICMSHAROM+0022'), 'r')"
   ]
  },
  {
   "cell_type": "code",
   "execution_count": null,
   "metadata": {
    "execution": {
     "iopub.execute_input": "2025-01-08T16:24:56.540940Z",
     "iopub.status.busy": "2025-01-08T16:24:56.540787Z",
     "iopub.status.idle": "2025-01-08T16:24:56.597266Z",
     "shell.execute_reply": "2025-01-08T16:24:56.596827Z"
    }
   },
   "outputs": [],
   "source": [
    "f = r.readfield('SURFTEMPERATURE')"
   ]
  },
  {
   "cell_type": "code",
   "execution_count": null,
   "metadata": {
    "execution": {
     "iopub.execute_input": "2025-01-08T16:24:56.599020Z",
     "iopub.status.busy": "2025-01-08T16:24:56.598832Z",
     "iopub.status.idle": "2025-01-08T16:24:57.135167Z",
     "shell.execute_reply": "2025-01-08T16:24:57.134755Z"
    }
   },
   "outputs": [],
   "source": [
    "fig, ax = f.cartoplot()\n",
    "# interactive mode: fig.show()\n",
    "# file mode: fig.savefig('figure.png')"
   ]
  },
  {
   "cell_type": "code",
   "execution_count": null,
   "metadata": {},
   "outputs": [],
   "source": []
  }
 ],
 "metadata": {
  "kernelspec": {
   "display_name": "Python 3 (ipykernel)",
   "language": "python",
   "name": "python3"
  },
  "language_info": {
   "codemirror_mode": {
    "name": "ipython",
    "version": 3
   },
   "file_extension": ".py",
   "mimetype": "text/x-python",
   "name": "python",
   "nbconvert_exporter": "python",
   "pygments_lexer": "ipython3",
   "version": "3.10.12"
  }
 },
 "nbformat": 4,
 "nbformat_minor": 4
}
