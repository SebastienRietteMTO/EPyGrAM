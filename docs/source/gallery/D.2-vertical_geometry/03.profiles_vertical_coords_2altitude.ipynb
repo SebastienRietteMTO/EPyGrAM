{
 "cells": [
  {
   "cell_type": "markdown",
   "metadata": {},
   "source": [
    "# Convert profiles vertical coordinate from Hybrid-Pressure to altitude"
   ]
  },
  {
   "cell_type": "code",
   "execution_count": null,
   "metadata": {
    "execution": {
     "iopub.execute_input": "2025-01-08T16:29:51.760840Z",
     "iopub.status.busy": "2025-01-08T16:29:51.760199Z",
     "iopub.status.idle": "2025-01-08T16:29:52.299783Z",
     "shell.execute_reply": "2025-01-08T16:29:52.299035Z"
    }
   },
   "outputs": [],
   "source": [
    "%matplotlib inline\n",
    "# for figures in notebook\n",
    "\n",
    "# import & initialize epygram\n",
    "import epygram\n",
    "epygram.init_env()\n",
    "\n",
    "import os\n",
    "INPUTS_DIR = os.path.join('..', 'inputs')"
   ]
  },
  {
   "cell_type": "code",
   "execution_count": null,
   "metadata": {
    "execution": {
     "iopub.execute_input": "2025-01-08T16:29:52.301892Z",
     "iopub.status.busy": "2025-01-08T16:29:52.301671Z",
     "iopub.status.idle": "2025-01-08T16:29:52.445227Z",
     "shell.execute_reply": "2025-01-08T16:29:52.444662Z"
    }
   },
   "outputs": [],
   "source": [
    "r = epygram.resources.meta_resource(os.path.join(INPUTS_DIR, 'ICMSHAROM+0022'), 'r', 'CL')  # CL = CombineLevels"
   ]
  },
  {
   "cell_type": "code",
   "execution_count": null,
   "metadata": {
    "execution": {
     "iopub.execute_input": "2025-01-08T16:29:52.447439Z",
     "iopub.status.busy": "2025-01-08T16:29:52.447252Z",
     "iopub.status.idle": "2025-01-08T16:29:52.449494Z",
     "shell.execute_reply": "2025-01-08T16:29:52.449165Z"
    }
   },
   "outputs": [],
   "source": [
    "# in a \"CL\" meta-resource, fields are to be grabbed through a GRIB2 nomenclature\n",
    "t_as_grib2 = dict(discipline=0, parameterCategory=0, parameterNumber=0,  # this is temperature\n",
    "                  typeOfFirstFixedSurface=119)  # hybrid-pressure levels"
   ]
  },
  {
   "cell_type": "code",
   "execution_count": null,
   "metadata": {
    "execution": {
     "iopub.execute_input": "2025-01-08T16:29:52.451187Z",
     "iopub.status.busy": "2025-01-08T16:29:52.451000Z",
     "iopub.status.idle": "2025-01-08T16:29:54.993095Z",
     "shell.execute_reply": "2025-01-08T16:29:54.992622Z"
    }
   },
   "outputs": [],
   "source": [
    "t3d = r.readfield(t_as_grib2)"
   ]
  },
  {
   "cell_type": "code",
   "execution_count": null,
   "metadata": {
    "execution": {
     "iopub.execute_input": "2025-01-08T16:29:54.995205Z",
     "iopub.status.busy": "2025-01-08T16:29:54.994994Z",
     "iopub.status.idle": "2025-01-08T16:29:55.115196Z",
     "shell.execute_reply": "2025-01-08T16:29:55.114710Z"
    }
   },
   "outputs": [],
   "source": [
    "t3d.sp2gp()"
   ]
  },
  {
   "cell_type": "code",
   "execution_count": null,
   "metadata": {
    "execution": {
     "iopub.execute_input": "2025-01-08T16:29:55.117100Z",
     "iopub.status.busy": "2025-01-08T16:29:55.116886Z",
     "iopub.status.idle": "2025-01-08T16:29:55.128671Z",
     "shell.execute_reply": "2025-01-08T16:29:55.128121Z"
    }
   },
   "outputs": [],
   "source": [
    "# extract profiles\n",
    "profiles = []\n",
    "for position in [(6.1,46.2), (6.8,45.8), (6,46.5)]:\n",
    "    profgeo = t3d.geometry.make_profile_geometry(*position)  # make a V1D geometry at that position\n",
    "    profiles.append(t3d.extract_subdomain(profgeo))  # extract subdomain corresponding to the geometry of the profile"
   ]
  },
  {
   "cell_type": "code",
   "execution_count": null,
   "metadata": {
    "execution": {
     "iopub.execute_input": "2025-01-08T16:29:55.130554Z",
     "iopub.status.busy": "2025-01-08T16:29:55.130388Z",
     "iopub.status.idle": "2025-01-08T16:29:55.514440Z",
     "shell.execute_reply": "2025-01-08T16:29:55.513755Z"
    }
   },
   "outputs": [],
   "source": [
    "fig = ax = None\n",
    "for p in profiles:\n",
    "    fig, ax = p.plotfield(labels='Temperature @ ({}, {})'.format(p.geometry.grid['longitudes'][0],\n",
    "                                                                 p.geometry.grid['latitudes'][0]),\n",
    "                          over=(fig, ax))  # superpose profiles"
   ]
  },
  {
   "cell_type": "markdown",
   "metadata": {},
   "source": [
    "## and now on an Altitude z-axis"
   ]
  },
  {
   "cell_type": "code",
   "execution_count": null,
   "metadata": {
    "execution": {
     "iopub.execute_input": "2025-01-08T16:29:55.516361Z",
     "iopub.status.busy": "2025-01-08T16:29:55.516146Z",
     "iopub.status.idle": "2025-01-08T16:29:55.879779Z",
     "shell.execute_reply": "2025-01-08T16:29:55.879271Z"
    }
   },
   "outputs": [],
   "source": [
    "# for the conversions, we need R and T profiles, so (at least) q and T\n",
    "q_as_grib2 = dict(discipline=0, parameterCategory=1, parameterNumber=0,  # this is specific humidity\n",
    "                  typeOfFirstFixedSurface=119)  # on hybrid-pressure levels\n",
    "q3d = r.readfield(q_as_grib2)"
   ]
  },
  {
   "cell_type": "code",
   "execution_count": null,
   "metadata": {
    "execution": {
     "iopub.execute_input": "2025-01-08T16:29:55.881832Z",
     "iopub.status.busy": "2025-01-08T16:29:55.881630Z",
     "iopub.status.idle": "2025-01-08T16:29:56.226094Z",
     "shell.execute_reply": "2025-01-08T16:29:56.225502Z"
    }
   },
   "outputs": [],
   "source": [
    "# but also Surface pressure and geopotential\n",
    "ps = epygram.open(r.resource.container.abspath, 'r').readfield('SURFPRESSION')\n",
    "zs = epygram.open(r.resource.container.abspath, 'r').readfield('SPECSURFGEOPOTEN')\n",
    "# Ps is spectral and ln(Ps)\n",
    "ps.sp2gp()\n",
    "ps.operation('exp')\n",
    "zs.sp2gp()"
   ]
  },
  {
   "cell_type": "code",
   "execution_count": null,
   "metadata": {
    "execution": {
     "iopub.execute_input": "2025-01-08T16:29:56.228193Z",
     "iopub.status.busy": "2025-01-08T16:29:56.227987Z",
     "iopub.status.idle": "2025-01-08T16:29:56.249373Z",
     "shell.execute_reply": "2025-01-08T16:29:56.249042Z"
    }
   },
   "outputs": [],
   "source": [
    "from epygram.geometries.VGeometry import hybridP2altitude\n",
    "from bronx.meteo.conversion import q2R\n",
    "\n",
    "for p in profiles:\n",
    "    q_profile = q3d.extract_subdomain(p.geometry).data  # profile of q at the same place\n",
    "    # specific humidity (and optionally hydrometeors) to moist air specific constant R\n",
    "    R_profile = q2R(q_profile)\n",
    "    t_profile = p.data\n",
    "    ps_local = ps.getvalue_ll(p.geometry.grid['longitudes'][0],\n",
    "                              p.geometry.grid['latitudes'][0])\n",
    "    zs_local = zs.getvalue_ll(p.geometry.grid['longitudes'][0],\n",
    "                              p.geometry.grid['latitudes'][0])\n",
    "    # create the Z vertical coordinate\n",
    "    p.geometry.vcoordinate = hybridP2altitude(p.geometry.vcoordinate,\n",
    "                                              R_profile,\n",
    "                                              t_profile,\n",
    "                                              ps_local,\n",
    "                                              vertical_mean='geometric',\n",
    "                                              Phi_surf=zs_local,\n",
    "                                              Pdep=None)  # we could also provide a (NH) Pressure-departure profile for more accuracy"
   ]
  },
  {
   "cell_type": "code",
   "execution_count": null,
   "metadata": {
    "execution": {
     "iopub.execute_input": "2025-01-08T16:29:56.250954Z",
     "iopub.status.busy": "2025-01-08T16:29:56.250764Z",
     "iopub.status.idle": "2025-01-08T16:29:56.406466Z",
     "shell.execute_reply": "2025-01-08T16:29:56.405969Z"
    }
   },
   "outputs": [],
   "source": [
    "fig = ax = None\n",
    "for p in profiles:\n",
    "    fig, ax = p.plotfield(labels='Temperature @ ({}, {})'.format(p.geometry.grid['longitudes'][0],\n",
    "                                                                 p.geometry.grid['latitudes'][0]),\n",
    "                          over=(fig, ax))  # superpose profiles"
   ]
  },
  {
   "cell_type": "code",
   "execution_count": null,
   "metadata": {},
   "outputs": [],
   "source": []
  }
 ],
 "metadata": {
  "kernelspec": {
   "display_name": "Python 3",
   "language": "python",
   "name": "python3"
  },
  "language_info": {
   "codemirror_mode": {
    "name": "ipython",
    "version": 3
   },
   "file_extension": ".py",
   "mimetype": "text/x-python",
   "name": "python",
   "nbconvert_exporter": "python",
   "pygments_lexer": "ipython3",
   "version": "3.10.12"
  }
 },
 "nbformat": 4,
 "nbformat_minor": 1
}
