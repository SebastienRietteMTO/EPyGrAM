{
 "cells": [
  {
   "cell_type": "markdown",
   "metadata": {},
   "source": [
    "# Convert profiles vertical coordinate from Hybrid-Pressure to pressure"
   ]
  },
  {
   "cell_type": "code",
   "execution_count": null,
   "metadata": {
    "execution": {
     "iopub.execute_input": "2025-01-08T16:29:45.875658Z",
     "iopub.status.busy": "2025-01-08T16:29:45.875130Z",
     "iopub.status.idle": "2025-01-08T16:29:46.408010Z",
     "shell.execute_reply": "2025-01-08T16:29:46.407375Z"
    }
   },
   "outputs": [],
   "source": [
    "%matplotlib inline\n",
    "# for figures in notebook\n",
    "\n",
    "# import & initialize epygram\n",
    "import epygram\n",
    "epygram.init_env()\n",
    "\n",
    "import os\n",
    "INPUTS_DIR = os.path.join('..', 'inputs')"
   ]
  },
  {
   "cell_type": "code",
   "execution_count": null,
   "metadata": {
    "execution": {
     "iopub.execute_input": "2025-01-08T16:29:46.410290Z",
     "iopub.status.busy": "2025-01-08T16:29:46.410055Z",
     "iopub.status.idle": "2025-01-08T16:29:46.546786Z",
     "shell.execute_reply": "2025-01-08T16:29:46.546213Z"
    }
   },
   "outputs": [],
   "source": [
    "r = epygram.resources.meta_resource(os.path.join(INPUTS_DIR, 'ICMSHAROM+0022'), 'r', 'CL')  # CL = CombineLevels\n",
    "# in a \"CL\" meta-resource, fields are to be grabbed through a GRIB2 nomenclature\n",
    "t_as_grib2 = dict(discipline=0, parameterCategory=0, parameterNumber=0,  # this is temperature\n",
    "                  typeOfFirstFixedSurface=119)  # hybrid-pressure levels"
   ]
  },
  {
   "cell_type": "code",
   "execution_count": null,
   "metadata": {
    "execution": {
     "iopub.execute_input": "2025-01-08T16:29:46.548953Z",
     "iopub.status.busy": "2025-01-08T16:29:46.548738Z",
     "iopub.status.idle": "2025-01-08T16:29:49.134875Z",
     "shell.execute_reply": "2025-01-08T16:29:49.134359Z"
    }
   },
   "outputs": [],
   "source": [
    "# read as 3D\n",
    "t3d = r.readfield(t_as_grib2)\n",
    "t3d.sp2gp()"
   ]
  },
  {
   "cell_type": "code",
   "execution_count": null,
   "metadata": {
    "execution": {
     "iopub.execute_input": "2025-01-08T16:29:49.136986Z",
     "iopub.status.busy": "2025-01-08T16:29:49.136835Z",
     "iopub.status.idle": "2025-01-08T16:29:49.148372Z",
     "shell.execute_reply": "2025-01-08T16:29:49.147959Z"
    }
   },
   "outputs": [],
   "source": [
    "# extract profiles\n",
    "profiles = []\n",
    "for position in [(6.1,46.2), (6.8,45.8), (6,46.5)]:\n",
    "    profgeo = t3d.geometry.make_profile_geometry(*position)  # make a V1D geometry at that position\n",
    "    profiles.append(t3d.extract_subdomain(profgeo))  # extract subdomain corresponding to the geometry of the profile"
   ]
  },
  {
   "cell_type": "code",
   "execution_count": null,
   "metadata": {
    "execution": {
     "iopub.execute_input": "2025-01-08T16:29:49.150084Z",
     "iopub.status.busy": "2025-01-08T16:29:49.149891Z",
     "iopub.status.idle": "2025-01-08T16:29:49.533190Z",
     "shell.execute_reply": "2025-01-08T16:29:49.532711Z"
    }
   },
   "outputs": [],
   "source": [
    "# plot with level as vertical coord\n",
    "fig = ax = None\n",
    "for p in profiles:\n",
    "    fig, ax = p.plotfield(labels='Temperature @ ({}, {})'.format(p.geometry.grid['longitudes'][0],\n",
    "                                                                 p.geometry.grid['latitudes'][0]),\n",
    "                          over=(fig, ax))  # superpose profiles"
   ]
  },
  {
   "cell_type": "markdown",
   "metadata": {},
   "source": [
    "## and now on a Pressure z-axis"
   ]
  },
  {
   "cell_type": "code",
   "execution_count": null,
   "metadata": {
    "execution": {
     "iopub.execute_input": "2025-01-08T16:29:49.535153Z",
     "iopub.status.busy": "2025-01-08T16:29:49.534962Z",
     "iopub.status.idle": "2025-01-08T16:29:49.707257Z",
     "shell.execute_reply": "2025-01-08T16:29:49.706729Z"
    }
   },
   "outputs": [],
   "source": [
    "# for the conversion, we need Surface pressure\n",
    "ps = epygram.open(r.resource.container.abspath, 'r').readfield('SURFPRESSION')\n",
    "# Ps is spectral and ln(Ps)\n",
    "ps.sp2gp()\n",
    "ps.operation('exp')"
   ]
  },
  {
   "cell_type": "code",
   "execution_count": null,
   "metadata": {
    "execution": {
     "iopub.execute_input": "2025-01-08T16:29:49.709575Z",
     "iopub.status.busy": "2025-01-08T16:29:49.709367Z",
     "iopub.status.idle": "2025-01-08T16:29:49.715395Z",
     "shell.execute_reply": "2025-01-08T16:29:49.714946Z"
    }
   },
   "outputs": [],
   "source": [
    "from epygram.geometries.VGeometry import hybridP2pressure\n",
    "\n",
    "for p in profiles:\n",
    "    ps_local = ps.getvalue_ll(p.geometry.grid['longitudes'][0],\n",
    "                              p.geometry.grid['latitudes'][0])\n",
    "    # create the P vertical coordinate\n",
    "    p.geometry.vcoordinate = hybridP2pressure(p.geometry.vcoordinate,\n",
    "                                              ps_local,\n",
    "                                              vertical_mean='geometric')"
   ]
  },
  {
   "cell_type": "code",
   "execution_count": null,
   "metadata": {
    "execution": {
     "iopub.execute_input": "2025-01-08T16:29:49.717012Z",
     "iopub.status.busy": "2025-01-08T16:29:49.716814Z",
     "iopub.status.idle": "2025-01-08T16:29:49.870015Z",
     "shell.execute_reply": "2025-01-08T16:29:49.869337Z"
    }
   },
   "outputs": [],
   "source": [
    "fig = ax = None\n",
    "for p in profiles:\n",
    "    fig, ax = p.plotfield(labels='Temperature @ ({}, {})'.format(p.geometry.grid['longitudes'][0],\n",
    "                                                                 p.geometry.grid['latitudes'][0]),\n",
    "                          over=(fig, ax))  # superpose profiles"
   ]
  },
  {
   "cell_type": "code",
   "execution_count": null,
   "metadata": {},
   "outputs": [],
   "source": []
  }
 ],
 "metadata": {
  "kernelspec": {
   "display_name": "Python 3",
   "language": "python",
   "name": "python3"
  },
  "language_info": {
   "codemirror_mode": {
    "name": "ipython",
    "version": 3
   },
   "file_extension": ".py",
   "mimetype": "text/x-python",
   "name": "python",
   "nbconvert_exporter": "python",
   "pygments_lexer": "ipython3",
   "version": "3.10.12"
  }
 },
 "nbformat": 4,
 "nbformat_minor": 1
}
