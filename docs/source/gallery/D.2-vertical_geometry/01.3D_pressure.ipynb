{
 "cells": [
  {
   "cell_type": "markdown",
   "metadata": {},
   "source": [
    "# Get the 3D Pressure field from a hybrid-pressure coordinate FA file (and its surface pressure)"
   ]
  },
  {
   "cell_type": "code",
   "execution_count": null,
   "metadata": {
    "execution": {
     "iopub.execute_input": "2025-01-08T16:29:41.498953Z",
     "iopub.status.busy": "2025-01-08T16:29:41.498432Z",
     "iopub.status.idle": "2025-01-08T16:29:41.829052Z",
     "shell.execute_reply": "2025-01-08T16:29:41.828556Z"
    }
   },
   "outputs": [],
   "source": [
    "# import & initialize epygram\n",
    "import epygram\n",
    "from epygram.geometries.VGeometry import hybridP_coord_and_surfpressure_to_3D_pressure_field\n",
    "epygram.init_env()\n",
    "\n",
    "import os\n",
    "INPUTS_DIR = os.path.join('..', 'inputs')"
   ]
  },
  {
   "cell_type": "code",
   "execution_count": null,
   "metadata": {
    "execution": {
     "iopub.execute_input": "2025-01-08T16:29:41.831187Z",
     "iopub.status.busy": "2025-01-08T16:29:41.830957Z",
     "iopub.status.idle": "2025-01-08T16:29:44.020321Z",
     "shell.execute_reply": "2025-01-08T16:29:44.019803Z"
    }
   },
   "outputs": [],
   "source": [
    "# open resource in read mode\n",
    "r = epygram.open(os.path.join(INPUTS_DIR, 'ICMSHAROM+0022'), 'r')\n",
    "surfP = r.readfield('SURFPRESSION')\n",
    "hybridP_geo = r.readfield('S058TEMPERATURE').geometry.vcoordinate"
   ]
  },
  {
   "cell_type": "code",
   "execution_count": null,
   "metadata": {
    "execution": {
     "iopub.execute_input": "2025-01-08T16:29:44.022206Z",
     "iopub.status.busy": "2025-01-08T16:29:44.022025Z",
     "iopub.status.idle": "2025-01-08T16:29:44.026785Z",
     "shell.execute_reply": "2025-01-08T16:29:44.026361Z"
    }
   },
   "outputs": [],
   "source": [
    "surfP.sp2gp()  # field is spectral\n",
    "surfP.operation('exp')  # and log(Ps)"
   ]
  },
  {
   "cell_type": "code",
   "execution_count": null,
   "metadata": {
    "execution": {
     "iopub.execute_input": "2025-01-08T16:29:44.028255Z",
     "iopub.status.busy": "2025-01-08T16:29:44.028063Z",
     "iopub.status.idle": "2025-01-08T16:29:44.096122Z",
     "shell.execute_reply": "2025-01-08T16:29:44.095615Z"
    }
   },
   "outputs": [],
   "source": [
    "p3D = hybridP_coord_and_surfpressure_to_3D_pressure_field(hybridP_geo, surfP,\n",
    "                                                          vertical_mean='geometric')\n",
    "# in AROME, the computation of pressure at mass-levels is a geometric average of the surrounding flux-levels pressures"
   ]
  },
  {
   "cell_type": "code",
   "execution_count": null,
   "metadata": {
    "execution": {
     "iopub.execute_input": "2025-01-08T16:29:44.098040Z",
     "iopub.status.busy": "2025-01-08T16:29:44.097867Z",
     "iopub.status.idle": "2025-01-08T16:29:44.103111Z",
     "shell.execute_reply": "2025-01-08T16:29:44.102636Z"
    }
   },
   "outputs": [],
   "source": [
    "p3D.data.shape"
   ]
  },
  {
   "cell_type": "code",
   "execution_count": null,
   "metadata": {},
   "outputs": [],
   "source": []
  }
 ],
 "metadata": {
  "kernelspec": {
   "display_name": "Python 3",
   "language": "python",
   "name": "python3"
  },
  "language_info": {
   "codemirror_mode": {
    "name": "ipython",
    "version": 3
   },
   "file_extension": ".py",
   "mimetype": "text/x-python",
   "name": "python",
   "nbconvert_exporter": "python",
   "pygments_lexer": "ipython3",
   "version": "3.10.12"
  }
 },
 "nbformat": 4,
 "nbformat_minor": 1
}
