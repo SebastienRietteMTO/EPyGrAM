{
 "cells": [
  {
   "cell_type": "markdown",
   "metadata": {},
   "source": [
    "# Extract a subarray, keeping projection"
   ]
  },
  {
   "cell_type": "code",
   "execution_count": null,
   "metadata": {
    "execution": {
     "iopub.execute_input": "2025-01-08T16:29:27.630953Z",
     "iopub.status.busy": "2025-01-08T16:29:27.630442Z",
     "iopub.status.idle": "2025-01-08T16:29:28.157227Z",
     "shell.execute_reply": "2025-01-08T16:29:28.156731Z"
    }
   },
   "outputs": [],
   "source": [
    "%matplotlib inline\n",
    "# for figures in notebook\n",
    "\n",
    "# import & initialize epygram\n",
    "import epygram\n",
    "epygram.init_env()\n",
    "\n",
    "import os\n",
    "INPUTS_DIR = os.path.join('..', 'inputs')"
   ]
  },
  {
   "cell_type": "code",
   "execution_count": null,
   "metadata": {
    "execution": {
     "iopub.execute_input": "2025-01-08T16:29:28.159403Z",
     "iopub.status.busy": "2025-01-08T16:29:28.159143Z",
     "iopub.status.idle": "2025-01-08T16:29:28.311969Z",
     "shell.execute_reply": "2025-01-08T16:29:28.311504Z"
    }
   },
   "outputs": [],
   "source": [
    "# open resource in read mode\n",
    "r = epygram.open(os.path.join(INPUTS_DIR, 'ICMSHAROM+0022'), 'r')"
   ]
  },
  {
   "cell_type": "code",
   "execution_count": null,
   "metadata": {
    "execution": {
     "iopub.execute_input": "2025-01-08T16:29:28.313986Z",
     "iopub.status.busy": "2025-01-08T16:29:28.313793Z",
     "iopub.status.idle": "2025-01-08T16:29:28.372788Z",
     "shell.execute_reply": "2025-01-08T16:29:28.372283Z"
    }
   },
   "outputs": [],
   "source": [
    "f = r.readfield('SURFTEMPERATURE')\n",
    "print(type(f.geometry))\n",
    "print(f.geometry.dimensions)\n",
    "z = f.extract_subarray(10, 45, 25, 105)\n",
    "print(type(z.geometry))\n",
    "print(z.geometry.dimensions)"
   ]
  },
  {
   "cell_type": "code",
   "execution_count": null,
   "metadata": {},
   "outputs": [],
   "source": []
  }
 ],
 "metadata": {
  "kernelspec": {
   "display_name": "Python 3",
   "language": "python",
   "name": "python3"
  },
  "language_info": {
   "codemirror_mode": {
    "name": "ipython",
    "version": 3
   },
   "file_extension": ".py",
   "mimetype": "text/x-python",
   "name": "python",
   "nbconvert_exporter": "python",
   "pygments_lexer": "ipython3",
   "version": "3.10.12"
  }
 },
 "nbformat": 4,
 "nbformat_minor": 2
}
