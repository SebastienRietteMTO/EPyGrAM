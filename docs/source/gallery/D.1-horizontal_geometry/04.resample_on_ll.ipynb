{
 "cells": [
  {
   "cell_type": "markdown",
   "metadata": {},
   "source": [
    "# Interpolate (resample) on a lon/lat regular grid\n",
    "\n",
    "!!! FIXME: resampling to/from Gauss grids is currently broken"
   ]
  },
  {
   "cell_type": "code",
   "execution_count": null,
   "metadata": {
    "execution": {
     "iopub.execute_input": "2025-01-08T16:29:34.507234Z",
     "iopub.status.busy": "2025-01-08T16:29:34.506744Z",
     "iopub.status.idle": "2025-01-08T16:29:35.031947Z",
     "shell.execute_reply": "2025-01-08T16:29:35.031452Z"
    }
   },
   "outputs": [],
   "source": [
    "%matplotlib inline\n",
    "# for figures in notebook\n",
    "\n",
    "# import & initialize epygram\n",
    "import epygram\n",
    "epygram.init_env()\n",
    "\n",
    "import os\n",
    "INPUTS_DIR = os.path.join('..', 'inputs')"
   ]
  },
  {
   "cell_type": "code",
   "execution_count": null,
   "metadata": {
    "execution": {
     "iopub.execute_input": "2025-01-08T16:29:35.034159Z",
     "iopub.status.busy": "2025-01-08T16:29:35.033931Z",
     "iopub.status.idle": "2025-01-08T16:29:35.307936Z",
     "shell.execute_reply": "2025-01-08T16:29:35.307480Z"
    }
   },
   "outputs": [],
   "source": [
    "gauss = epygram.open(os.path.join(INPUTS_DIR, 'analysis.full-arpege.tl149-c24.fa'), 'r')\n",
    "lam = epygram.open(os.path.join(INPUTS_DIR, 'ICMSHAROM+0022'), 'r')"
   ]
  },
  {
   "cell_type": "code",
   "execution_count": null,
   "metadata": {
    "execution": {
     "iopub.execute_input": "2025-01-08T16:29:35.310020Z",
     "iopub.status.busy": "2025-01-08T16:29:35.309849Z",
     "iopub.status.idle": "2025-01-08T16:29:35.372287Z",
     "shell.execute_reply": "2025-01-08T16:29:35.371955Z"
    }
   },
   "outputs": [],
   "source": [
    "fg = gauss.readfield('SURFTEMPERATURE')"
   ]
  },
  {
   "cell_type": "code",
   "execution_count": null,
   "metadata": {
    "execution": {
     "iopub.execute_input": "2025-01-08T16:29:35.374085Z",
     "iopub.status.busy": "2025-01-08T16:29:35.373907Z",
     "iopub.status.idle": "2025-01-08T16:29:35.375934Z",
     "shell.execute_reply": "2025-01-08T16:29:35.375603Z"
    }
   },
   "outputs": [],
   "source": [
    "#fgl = fg.resample_on_regularll(dict(lonmin=-10, lonmax=15, latmin=35, latmax=55),\n",
    "#                               resolution_in_degrees=0.2,\n",
    "#                               reduce_data=False)"
   ]
  },
  {
   "cell_type": "code",
   "execution_count": null,
   "metadata": {
    "execution": {
     "iopub.execute_input": "2025-01-08T16:29:35.377799Z",
     "iopub.status.busy": "2025-01-08T16:29:35.377577Z",
     "iopub.status.idle": "2025-01-08T16:29:35.379876Z",
     "shell.execute_reply": "2025-01-08T16:29:35.379536Z"
    }
   },
   "outputs": [],
   "source": [
    "#fgl.geometry"
   ]
  },
  {
   "cell_type": "code",
   "execution_count": null,
   "metadata": {
    "execution": {
     "iopub.execute_input": "2025-01-08T16:29:35.381743Z",
     "iopub.status.busy": "2025-01-08T16:29:35.381302Z",
     "iopub.status.idle": "2025-01-08T16:29:35.383439Z",
     "shell.execute_reply": "2025-01-08T16:29:35.383109Z"
    }
   },
   "outputs": [],
   "source": [
    "#fig, ax = fgl.cartoplot()"
   ]
  },
  {
   "cell_type": "code",
   "execution_count": null,
   "metadata": {
    "execution": {
     "iopub.execute_input": "2025-01-08T16:29:35.385484Z",
     "iopub.status.busy": "2025-01-08T16:29:35.385111Z",
     "iopub.status.idle": "2025-01-08T16:29:35.415386Z",
     "shell.execute_reply": "2025-01-08T16:29:35.415077Z"
    }
   },
   "outputs": [],
   "source": [
    "fl = lam.readfield('SURFTEMPERATURE')"
   ]
  },
  {
   "cell_type": "code",
   "execution_count": null,
   "metadata": {
    "execution": {
     "iopub.execute_input": "2025-01-08T16:29:35.416754Z",
     "iopub.status.busy": "2025-01-08T16:29:35.416475Z",
     "iopub.status.idle": "2025-01-08T16:29:35.446483Z",
     "shell.execute_reply": "2025-01-08T16:29:35.446049Z"
    }
   },
   "outputs": [],
   "source": [
    "flr = fl.resample_on_regularll(dict(lonmin=-5, lonmax=15, latmin=40, latmax=50),\n",
    "                               resolution_in_degrees=0.5,\n",
    "                               reduce_data=False,\n",
    "                               subzone='CI')"
   ]
  },
  {
   "cell_type": "code",
   "execution_count": null,
   "metadata": {
    "execution": {
     "iopub.execute_input": "2025-01-08T16:29:35.448177Z",
     "iopub.status.busy": "2025-01-08T16:29:35.447984Z",
     "iopub.status.idle": "2025-01-08T16:29:36.227377Z",
     "shell.execute_reply": "2025-01-08T16:29:36.226988Z"
    }
   },
   "outputs": [],
   "source": [
    "fig, ax = flr.cartoplot()"
   ]
  },
  {
   "cell_type": "code",
   "execution_count": null,
   "metadata": {},
   "outputs": [],
   "source": []
  }
 ],
 "metadata": {
  "kernelspec": {
   "display_name": "Python 3",
   "language": "python",
   "name": "python3"
  },
  "language_info": {
   "codemirror_mode": {
    "name": "ipython",
    "version": 3
   },
   "file_extension": ".py",
   "mimetype": "text/x-python",
   "name": "python",
   "nbconvert_exporter": "python",
   "pygments_lexer": "ipython3",
   "version": "3.10.12"
  }
 },
 "nbformat": 4,
 "nbformat_minor": 2
}
