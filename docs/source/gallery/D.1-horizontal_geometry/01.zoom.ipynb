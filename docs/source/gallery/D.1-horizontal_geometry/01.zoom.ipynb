{
 "cells": [
  {
   "cell_type": "markdown",
   "metadata": {},
   "source": [
    "# Extract a zoom from various geometries"
   ]
  },
  {
   "cell_type": "code",
   "execution_count": null,
   "metadata": {
    "execution": {
     "iopub.execute_input": "2025-01-08T16:29:24.289302Z",
     "iopub.status.busy": "2025-01-08T16:29:24.288807Z",
     "iopub.status.idle": "2025-01-08T16:29:24.820896Z",
     "shell.execute_reply": "2025-01-08T16:29:24.820226Z"
    }
   },
   "outputs": [],
   "source": [
    "%matplotlib inline\n",
    "# for figures in notebook\n",
    "\n",
    "# import & initialize epygram\n",
    "import epygram\n",
    "epygram.init_env()\n",
    "\n",
    "import os\n",
    "INPUTS_DIR = os.path.join('..', 'inputs')"
   ]
  },
  {
   "cell_type": "code",
   "execution_count": null,
   "metadata": {
    "execution": {
     "iopub.execute_input": "2025-01-08T16:29:24.823180Z",
     "iopub.status.busy": "2025-01-08T16:29:24.822962Z",
     "iopub.status.idle": "2025-01-08T16:29:25.210667Z",
     "shell.execute_reply": "2025-01-08T16:29:25.210173Z"
    }
   },
   "outputs": [],
   "source": [
    "# open resource in read mode\n",
    "l = epygram.open(os.path.join(INPUTS_DIR, 'ICMSHAROM+0022'), 'r')\n",
    "g = epygram.open(os.path.join(INPUTS_DIR, 'analysis.full-arpege.tl149-c24.fa'), 'r')\n",
    "llr = epygram.open(os.path.join(INPUTS_DIR, 'grid.arome-forecast.guyane0025+0000:00.grib'), 'r')"
   ]
  },
  {
   "cell_type": "code",
   "execution_count": null,
   "metadata": {
    "execution": {
     "iopub.execute_input": "2025-01-08T16:29:25.212796Z",
     "iopub.status.busy": "2025-01-08T16:29:25.212618Z",
     "iopub.status.idle": "2025-01-08T16:29:25.482284Z",
     "shell.execute_reply": "2025-01-08T16:29:25.481813Z"
    }
   },
   "outputs": [],
   "source": [
    "# extract lon/lat area from Lon/Lat regular field: keep projection\n",
    "f = llr.readfield('shortName:2r')\n",
    "z = f.extract_zoom(dict(lonmin=-55,lonmax=-50,latmin=4,latmax=7))\n",
    "z.geometry"
   ]
  },
  {
   "cell_type": "markdown",
   "metadata": {},
   "source": [
    "## but"
   ]
  },
  {
   "cell_type": "code",
   "execution_count": null,
   "metadata": {
    "execution": {
     "iopub.execute_input": "2025-01-08T16:29:25.484275Z",
     "iopub.status.busy": "2025-01-08T16:29:25.484092Z",
     "iopub.status.idle": "2025-01-08T16:29:25.679935Z",
     "shell.execute_reply": "2025-01-08T16:29:25.679535Z"
    }
   },
   "outputs": [],
   "source": [
    "# extract lon/lat area from Lambert projection grid => unstructured\n",
    "f = l.readfield('SURFTEMPERATURE')\n",
    "z = f.extract_zoom(dict(lonmin=7,lonmax=8.5,latmin=45,latmax=46))\n",
    "z.geometry"
   ]
  },
  {
   "cell_type": "code",
   "execution_count": null,
   "metadata": {
    "execution": {
     "iopub.execute_input": "2025-01-08T16:29:25.681985Z",
     "iopub.status.busy": "2025-01-08T16:29:25.681657Z",
     "iopub.status.idle": "2025-01-08T16:29:25.832697Z",
     "shell.execute_reply": "2025-01-08T16:29:25.832339Z"
    }
   },
   "outputs": [],
   "source": [
    "# extract lon/lat area from Gauss grid => unstructured\n",
    "f = g.readfield('SURFTEMPERATURE')\n",
    "z = f.extract_zoom(dict(lonmin=7,lonmax=8.5,latmin=45,latmax=46))\n",
    "z.geometry"
   ]
  },
  {
   "cell_type": "code",
   "execution_count": null,
   "metadata": {},
   "outputs": [],
   "source": []
  }
 ],
 "metadata": {
  "kernelspec": {
   "display_name": "Python 3",
   "language": "python",
   "name": "python3"
  },
  "language_info": {
   "codemirror_mode": {
    "name": "ipython",
    "version": 3
   },
   "file_extension": ".py",
   "mimetype": "text/x-python",
   "name": "python",
   "nbconvert_exporter": "python",
   "pygments_lexer": "ipython3",
   "version": "3.10.12"
  }
 },
 "nbformat": 4,
 "nbformat_minor": 2
}
