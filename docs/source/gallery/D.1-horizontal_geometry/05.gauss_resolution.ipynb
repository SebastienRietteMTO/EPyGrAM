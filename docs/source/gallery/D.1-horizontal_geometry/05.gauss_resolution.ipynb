{
 "cells": [
  {
   "cell_type": "markdown",
   "metadata": {},
   "source": [
    "# Gauss grid resolution"
   ]
  },
  {
   "cell_type": "code",
   "execution_count": null,
   "metadata": {
    "execution": {
     "iopub.execute_input": "2025-01-08T16:29:38.026109Z",
     "iopub.status.busy": "2025-01-08T16:29:38.025595Z",
     "iopub.status.idle": "2025-01-08T16:29:38.553586Z",
     "shell.execute_reply": "2025-01-08T16:29:38.553149Z"
    }
   },
   "outputs": [],
   "source": [
    "%matplotlib inline\n",
    "# for figures in notebook\n",
    "\n",
    "# import & initialize epygram\n",
    "import epygram\n",
    "epygram.init_env()\n",
    "\n",
    "import os\n",
    "INPUTS_DIR = os.path.join('..', 'inputs')"
   ]
  },
  {
   "cell_type": "code",
   "execution_count": null,
   "metadata": {
    "execution": {
     "iopub.execute_input": "2025-01-08T16:29:38.555832Z",
     "iopub.status.busy": "2025-01-08T16:29:38.555582Z",
     "iopub.status.idle": "2025-01-08T16:29:38.754523Z",
     "shell.execute_reply": "2025-01-08T16:29:38.754003Z"
    }
   },
   "outputs": [],
   "source": [
    "# open resource in read mode\n",
    "g = epygram.open(os.path.join(INPUTS_DIR, 'analysis.full-arpege.tl149-c24.fa'), 'r')\n",
    "f = g.readfield('SURFTEMPERATURE')"
   ]
  },
  {
   "cell_type": "code",
   "execution_count": null,
   "metadata": {
    "execution": {
     "iopub.execute_input": "2025-01-08T16:29:38.756790Z",
     "iopub.status.busy": "2025-01-08T16:29:38.756590Z",
     "iopub.status.idle": "2025-01-08T16:29:38.760660Z",
     "shell.execute_reply": "2025-01-08T16:29:38.760292Z"
    }
   },
   "outputs": [],
   "source": [
    "print(f.geometry.resolution_ll(2,45))"
   ]
  },
  {
   "cell_type": "code",
   "execution_count": null,
   "metadata": {
    "execution": {
     "iopub.execute_input": "2025-01-08T16:29:38.762344Z",
     "iopub.status.busy": "2025-01-08T16:29:38.762161Z",
     "iopub.status.idle": "2025-01-08T16:29:39.699445Z",
     "shell.execute_reply": "2025-01-08T16:29:39.699043Z"
    }
   },
   "outputs": [],
   "source": [
    "r = f.geometry.resolution_field_from_stretching()\n",
    "fig, ax = r.cartoplot(colorsnumber=10)"
   ]
  },
  {
   "cell_type": "code",
   "execution_count": null,
   "metadata": {},
   "outputs": [],
   "source": []
  }
 ],
 "metadata": {
  "kernelspec": {
   "display_name": "Python 3",
   "language": "python",
   "name": "python3"
  },
  "language_info": {
   "codemirror_mode": {
    "name": "ipython",
    "version": 3
   },
   "file_extension": ".py",
   "mimetype": "text/x-python",
   "name": "python",
   "nbconvert_exporter": "python",
   "pygments_lexer": "ipython3",
   "version": "3.10.12"
  }
 },
 "nbformat": 4,
 "nbformat_minor": 2
}
