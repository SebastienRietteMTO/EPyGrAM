{
 "cells": [
  {
   "cell_type": "markdown",
   "metadata": {},
   "source": [
    "# Interpolate (resample) on a different geometry"
   ]
  },
  {
   "cell_type": "code",
   "execution_count": null,
   "metadata": {
    "execution": {
     "iopub.execute_input": "2025-01-08T16:29:30.170154Z",
     "iopub.status.busy": "2025-01-08T16:29:30.169691Z",
     "iopub.status.idle": "2025-01-08T16:29:30.695999Z",
     "shell.execute_reply": "2025-01-08T16:29:30.695396Z"
    }
   },
   "outputs": [],
   "source": [
    "%matplotlib inline\n",
    "# for figures in notebook\n",
    "\n",
    "# import & initialize epygram\n",
    "import epygram\n",
    "epygram.init_env()\n",
    "\n",
    "import os\n",
    "INPUTS_DIR = os.path.join('..', 'inputs')"
   ]
  },
  {
   "cell_type": "code",
   "execution_count": null,
   "metadata": {
    "execution": {
     "iopub.execute_input": "2025-01-08T16:29:30.698223Z",
     "iopub.status.busy": "2025-01-08T16:29:30.697988Z",
     "iopub.status.idle": "2025-01-08T16:29:30.980704Z",
     "shell.execute_reply": "2025-01-08T16:29:30.980198Z"
    }
   },
   "outputs": [],
   "source": [
    "lam = epygram.open(os.path.join(INPUTS_DIR, 'ICMSHAROM+0022'), 'r')\n",
    "gauss = epygram.open(os.path.join(INPUTS_DIR, 'analysis.full-arpege.tl149-c24.fa'), 'r')"
   ]
  },
  {
   "cell_type": "code",
   "execution_count": null,
   "metadata": {
    "execution": {
     "iopub.execute_input": "2025-01-08T16:29:30.982802Z",
     "iopub.status.busy": "2025-01-08T16:29:30.982635Z",
     "iopub.status.idle": "2025-01-08T16:29:31.072930Z",
     "shell.execute_reply": "2025-01-08T16:29:31.072365Z"
    }
   },
   "outputs": [],
   "source": [
    "fl = lam.readfield('SURFTEMPERATURE')\n",
    "fg = gauss.readfield('SURFTEMPERATURE')"
   ]
  },
  {
   "cell_type": "code",
   "execution_count": null,
   "metadata": {
    "execution": {
     "iopub.execute_input": "2025-01-08T16:29:31.074713Z",
     "iopub.status.busy": "2025-01-08T16:29:31.074556Z",
     "iopub.status.idle": "2025-01-08T16:29:31.482472Z",
     "shell.execute_reply": "2025-01-08T16:29:31.481971Z"
    }
   },
   "outputs": [],
   "source": [
    "fgl = fg.resample(fl.geometry, reduce_data=False)"
   ]
  },
  {
   "cell_type": "code",
   "execution_count": null,
   "metadata": {
    "execution": {
     "iopub.execute_input": "2025-01-08T16:29:31.484449Z",
     "iopub.status.busy": "2025-01-08T16:29:31.484272Z",
     "iopub.status.idle": "2025-01-08T16:29:31.488035Z",
     "shell.execute_reply": "2025-01-08T16:29:31.487565Z"
    }
   },
   "outputs": [],
   "source": [
    "fgl.geometry"
   ]
  },
  {
   "cell_type": "code",
   "execution_count": null,
   "metadata": {
    "execution": {
     "iopub.execute_input": "2025-01-08T16:29:31.489696Z",
     "iopub.status.busy": "2025-01-08T16:29:31.489550Z",
     "iopub.status.idle": "2025-01-08T16:29:32.023507Z",
     "shell.execute_reply": "2025-01-08T16:29:32.023087Z"
    }
   },
   "outputs": [],
   "source": [
    "fig, ax = fl.cartoplot()"
   ]
  },
  {
   "cell_type": "code",
   "execution_count": null,
   "metadata": {
    "execution": {
     "iopub.execute_input": "2025-01-08T16:29:32.026363Z",
     "iopub.status.busy": "2025-01-08T16:29:32.026171Z",
     "iopub.status.idle": "2025-01-08T16:29:32.334524Z",
     "shell.execute_reply": "2025-01-08T16:29:32.333835Z"
    }
   },
   "outputs": [],
   "source": [
    "fig, ax = fgl.cartoplot()"
   ]
  },
  {
   "cell_type": "code",
   "execution_count": null,
   "metadata": {
    "execution": {
     "iopub.execute_input": "2025-01-08T16:29:32.336589Z",
     "iopub.status.busy": "2025-01-08T16:29:32.336355Z",
     "iopub.status.idle": "2025-01-08T16:29:32.402191Z",
     "shell.execute_reply": "2025-01-08T16:29:32.401656Z"
    }
   },
   "outputs": [],
   "source": [
    "fgl = fg.resample(fl.geometry, reduce_data=False, weighting='gauss')"
   ]
  },
  {
   "cell_type": "code",
   "execution_count": null,
   "metadata": {
    "execution": {
     "iopub.execute_input": "2025-01-08T16:29:32.403809Z",
     "iopub.status.busy": "2025-01-08T16:29:32.403627Z",
     "iopub.status.idle": "2025-01-08T16:29:32.707216Z",
     "shell.execute_reply": "2025-01-08T16:29:32.706703Z"
    }
   },
   "outputs": [],
   "source": [
    "fig, ax = fgl.cartoplot()"
   ]
  },
  {
   "cell_type": "code",
   "execution_count": null,
   "metadata": {},
   "outputs": [],
   "source": []
  }
 ],
 "metadata": {
  "kernelspec": {
   "display_name": "Python 3 (ipykernel)",
   "language": "python",
   "name": "python3"
  },
  "language_info": {
   "codemirror_mode": {
    "name": "ipython",
    "version": 3
   },
   "file_extension": ".py",
   "mimetype": "text/x-python",
   "name": "python",
   "nbconvert_exporter": "python",
   "pygments_lexer": "ipython3",
   "version": "3.10.12"
  }
 },
 "nbformat": 4,
 "nbformat_minor": 2
}
